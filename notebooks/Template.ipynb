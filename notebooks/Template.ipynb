{
 "cells": [
  {
   "cell_type": "markdown",
   "id": "187faf2e-4e39-461a-9dce-1882ee82719f",
   "metadata": {},
   "source": [
    "This notebook provides template functions to initialize a DuckDB database from default and split CSV files. Subsequent data analysis in Ibis can proceed agnostic to the underlying format."
   ]
  },
  {
   "cell_type": "code",
   "execution_count": 1,
   "id": "456c2ec7-1384-40c1-b131-29a7ba74f20a",
   "metadata": {},
   "outputs": [],
   "source": [
    "def init_ddb_from_csv(db_filename, tablename, csv_filename, **kwargs):\n",
    "    \"\"\"\n",
    "    Load from the csv file into a DuckDB database.\n",
    "    \n",
    "    db_filename: Name of the database\n",
    "    tablename: Table to load to\n",
    "    csv_filename: CSV file to load from\n",
    "    **kwargs: Options for DuckDB's read_csv function, see https://duckdb.org/docs/data/csv/overview\n",
    "    \"\"\"\n",
    "    import duckdb\n",
    "    duckdb_con = duckdb.connect(db_filename)\n",
    "    read_csv_args_list = [\"'{}'\".format(csv_filename)]\n",
    "    for key, value in kwargs.items():\n",
    "        read_csv_args_list.append(\"{0} = {1}\".format(key, value))\n",
    "    read_csv_args = ','.join(read_csv_args_list)\n",
    "    sql_stmt = \"CREATE TABLE {} AS SELECT * FROM read_csv({}, AUTO_DETECT=TRUE)\".format(tablename, read_csv_args)\n",
    "    print(sql_stmt)\n",
    "    duckdb_con.sql(sql_stmt)\n",
    "    duckdb_con.close()\n",
    "\n",
    "def init_ddb_from_split_csv(db_filename, tablename, split_csv_foldername, **kwargs):\n",
    "    \"\"\"\n",
    "    Load the split csv file into a DuckDB database and expose a view with tablename\n",
    "\n",
    "    db_filename: Name of the database\n",
    "    tablename: View to expose giving the impression of a table\n",
    "    csv_filename: Folder containing the split CSV files\n",
    "    **kwargs: Options for DuckDB's read_csv function, see https://duckdb.org/docs/data/csv/overview\n",
    "    \"\"\"\n",
    "    import duckdb\n",
    "    import os\n",
    "    duckdb_con = duckdb.connect(db_filename)\n",
    "    # read_csv_args_list = [\"'{}'\".format(csv_filename)]\n",
    "    # for key, value in kwargs.items():\n",
    "    #     read_csv_args_list.append(\"{0} = {1}\".format(key, value))\n",
    "    # read_csv_args = ','.join(read_csv_args_list)\n",
    "    num_dims = 0\n",
    "    cols = []\n",
    "    sub_tablenames = []\n",
    "    for root, dirs, files in os.walk(split_csv_foldername):\n",
    "        for file in files:\n",
    "            if 'dim' in file:\n",
    "                num_dims += 1\n",
    "            sub_tablename = tablename + \"_\" + file.split(\".csv\")[0]\n",
    "            sub_tablenames.append(sub_tablename)\n",
    "            full_filename = root + '/' + file\n",
    "            sql_stmt = \"CREATE TABLE {} AS SELECT * FROM read_csv('{}', AUTO_DETECT=TRUE)\".format(sub_tablename, full_filename)\n",
    "            print(sql_stmt)\n",
    "            duckdb_con.sql(sql_stmt)\n",
    "            table = duckdb_con.table(sub_tablename)\n",
    "            for col in table.columns:\n",
    "                # HACK: not fool proof, the CSV could contain a column starting with letter 'p'\n",
    "                if col[0] == 'p':\n",
    "                    continue\n",
    "                cols.append('\"' + col + '\"')\n",
    "\n",
    "    # Now create a view corresponding to a single original csv file\n",
    "    join_clauses = []\n",
    "    for i in range(num_dims):\n",
    "        join_clause = \"{}_fact.p{} = {}_dim{}.p{}\".format(tablename, i, tablename, i, i)\n",
    "        join_clauses.append(join_clause)\n",
    "\n",
    "    sql_stmt = \"CREATE VIEW {} AS SELECT \".format(tablename) + \",\".join(cols) + \\\n",
    "        \" FROM \" + \",\".join(sub_tablenames) + \" WHERE \" + (\" AND \").join(join_clauses)\n",
    "    print(sql_stmt)\n",
    "    duckdb_con.sql(sql_stmt)\n",
    "    duckdb_con.close()"
   ]
  },
  {
   "cell_type": "code",
   "execution_count": 2,
   "id": "62a82621-b4fa-47cb-9e89-8ad45bc57e4b",
   "metadata": {},
   "outputs": [
    {
     "name": "stdout",
     "output_type": "stream",
     "text": [
      "CREATE TABLE accidents AS SELECT * FROM read_csv('us-accidents/US_Accidents_Dec21_updated.csv', AUTO_DETECT=TRUE)\n"
     ]
    },
    {
     "data": {
      "application/vnd.jupyter.widget-view+json": {
       "model_id": "ae308f9cd450401fb47db35c1192641a",
       "version_major": 2,
       "version_minor": 0
      },
      "text/plain": [
       "FloatProgress(value=0.0, layout=Layout(width='auto'), style=ProgressStyle(bar_color='black'))"
      ]
     },
     "metadata": {},
     "output_type": "display_data"
    }
   ],
   "source": [
    "init_ddb_from_csv(\"us-accidents/us_accidents_default.db\", \"accidents\", \"us-accidents/US_Accidents_Dec21_updated.csv\")"
   ]
  },
  {
   "cell_type": "code",
   "execution_count": 3,
   "id": "0b192724-aca1-4fbd-bbfa-b60392118eaf",
   "metadata": {},
   "outputs": [],
   "source": [
    "# Cleanup\n",
    "!rm us-accidents/us_accidents_default.db*"
   ]
  },
  {
   "cell_type": "code",
   "execution_count": 4,
   "id": "de528a2c-e558-4d64-9964-5e98e07707ba",
   "metadata": {},
   "outputs": [
    {
     "name": "stdout",
     "output_type": "stream",
     "text": [
      "CREATE TABLE accidents_dim8 AS SELECT * FROM read_csv('us-accidents/US_Accidents_Dec21_updated_split/dim8.csv', AUTO_DETECT=TRUE)\n",
      "CREATE TABLE accidents_dim7 AS SELECT * FROM read_csv('us-accidents/US_Accidents_Dec21_updated_split/dim7.csv', AUTO_DETECT=TRUE)\n",
      "CREATE TABLE accidents_dim1 AS SELECT * FROM read_csv('us-accidents/US_Accidents_Dec21_updated_split/dim1.csv', AUTO_DETECT=TRUE)\n",
      "CREATE TABLE accidents_dim9 AS SELECT * FROM read_csv('us-accidents/US_Accidents_Dec21_updated_split/dim9.csv', AUTO_DETECT=TRUE)\n",
      "CREATE TABLE accidents_dim3 AS SELECT * FROM read_csv('us-accidents/US_Accidents_Dec21_updated_split/dim3.csv', AUTO_DETECT=TRUE)\n",
      "CREATE TABLE accidents_dim10 AS SELECT * FROM read_csv('us-accidents/US_Accidents_Dec21_updated_split/dim10.csv', AUTO_DETECT=TRUE)\n",
      "CREATE TABLE accidents_dim5 AS SELECT * FROM read_csv('us-accidents/US_Accidents_Dec21_updated_split/dim5.csv', AUTO_DETECT=TRUE)\n",
      "CREATE TABLE accidents_dim11 AS SELECT * FROM read_csv('us-accidents/US_Accidents_Dec21_updated_split/dim11.csv', AUTO_DETECT=TRUE)\n",
      "CREATE TABLE accidents_dim0 AS SELECT * FROM read_csv('us-accidents/US_Accidents_Dec21_updated_split/dim0.csv', AUTO_DETECT=TRUE)\n",
      "CREATE TABLE accidents_dim12 AS SELECT * FROM read_csv('us-accidents/US_Accidents_Dec21_updated_split/dim12.csv', AUTO_DETECT=TRUE)\n",
      "CREATE TABLE accidents_dim4 AS SELECT * FROM read_csv('us-accidents/US_Accidents_Dec21_updated_split/dim4.csv', AUTO_DETECT=TRUE)\n",
      "CREATE TABLE accidents_fact AS SELECT * FROM read_csv('us-accidents/US_Accidents_Dec21_updated_split/fact.csv', AUTO_DETECT=TRUE)\n"
     ]
    },
    {
     "data": {
      "application/vnd.jupyter.widget-view+json": {
       "model_id": "b3f0c427ddad4b9db84dd6ac4b731ff8",
       "version_major": 2,
       "version_minor": 0
      },
      "text/plain": [
       "FloatProgress(value=0.0, layout=Layout(width='auto'), style=ProgressStyle(bar_color='black'))"
      ]
     },
     "metadata": {},
     "output_type": "display_data"
    },
    {
     "name": "stdout",
     "output_type": "stream",
     "text": [
      "CREATE TABLE accidents_dim6 AS SELECT * FROM read_csv('us-accidents/US_Accidents_Dec21_updated_split/dim6.csv', AUTO_DETECT=TRUE)\n",
      "CREATE TABLE accidents_dim2 AS SELECT * FROM read_csv('us-accidents/US_Accidents_Dec21_updated_split/dim2.csv', AUTO_DETECT=TRUE)\n",
      "CREATE VIEW accidents AS SELECT \"Distance(mi)\",\"City\",\"Severity\",\"Timezone\",\"Wind_Direction\",\"State\",\"Street\",\"Wind_Speed(mph)\",\"Precipitation(in)\",\"Zipcode\",\"Pressure(in)\",\"Weather_Timestamp\",\"Turning_Loop\",\"Country\",\"Traffic_Signal\",\"Traffic_Calming\",\"Stop\",\"Station\",\"Roundabout\",\"Railway\",\"No_Exit\",\"Junction\",\"Give_Way\",\"Crossing\",\"Bump\",\"Amenity\",\"Astronomical_Twilight\",\"Nautical_Twilight\",\"Civil_Twilight\",\"Sunrise_Sunset\",\"Side\",\"Description\",\"Temperature(F)\",\"Wind_Chill(F)\",\"ID\",\"Start_Time\",\"End_Time\",\"Start_Lat\",\"Start_Lng\",\"End_Lat\",\"End_Lng\",\"Number\",\"Airport_Code\",\"County\",\"Visibility(mi)\",\"Humidity(%)\",\"Weather_Condition\" FROM accidents_dim8,accidents_dim7,accidents_dim1,accidents_dim9,accidents_dim3,accidents_dim10,accidents_dim5,accidents_dim11,accidents_dim0,accidents_dim12,accidents_dim4,accidents_fact,accidents_dim6,accidents_dim2 WHERE accidents_fact.p0 = accidents_dim0.p0 AND accidents_fact.p1 = accidents_dim1.p1 AND accidents_fact.p2 = accidents_dim2.p2 AND accidents_fact.p3 = accidents_dim3.p3 AND accidents_fact.p4 = accidents_dim4.p4 AND accidents_fact.p5 = accidents_dim5.p5 AND accidents_fact.p6 = accidents_dim6.p6 AND accidents_fact.p7 = accidents_dim7.p7 AND accidents_fact.p8 = accidents_dim8.p8 AND accidents_fact.p9 = accidents_dim9.p9 AND accidents_fact.p10 = accidents_dim10.p10 AND accidents_fact.p11 = accidents_dim11.p11 AND accidents_fact.p12 = accidents_dim12.p12\n"
     ]
    }
   ],
   "source": [
    "init_ddb_from_split_csv(\"us-accidents/us_accidents_split.db\", \"accidents\", \"us-accidents/US_Accidents_Dec21_updated_split_csv\") "
   ]
  },
  {
   "cell_type": "code",
   "execution_count": 5,
   "id": "6faccaa8-cb3a-43f2-af78-dfbe2ca95014",
   "metadata": {},
   "outputs": [],
   "source": [
    "# Cleanup\n",
    "!rm us-accidents/us_accidents_split.db*"
   ]
  }
 ],
 "metadata": {
  "kernelspec": {
   "display_name": "Python 3 (ipykernel)",
   "language": "python",
   "name": "python3"
  },
  "language_info": {
   "codemirror_mode": {
    "name": "ipython",
    "version": 3
   },
   "file_extension": ".py",
   "mimetype": "text/x-python",
   "name": "python",
   "nbconvert_exporter": "python",
   "pygments_lexer": "ipython3",
   "version": "3.8.10"
  }
 },
 "nbformat": 4,
 "nbformat_minor": 5
}
