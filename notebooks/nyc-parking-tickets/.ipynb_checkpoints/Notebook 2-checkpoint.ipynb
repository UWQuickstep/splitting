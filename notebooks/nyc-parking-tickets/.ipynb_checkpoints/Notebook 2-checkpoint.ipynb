{
 "cells": [
  {
   "cell_type": "markdown",
   "id": "e3137d3b-c224-400a-a2b1-f76953c0c7e9",
   "metadata": {},
   "source": [
    "https://www.kaggle.com/code/donyoe/exploring-42-3m-nyc-parking-tickets"
   ]
  },
  {
   "cell_type": "code",
   "execution_count": 1,
   "id": "fd5d9709-7a13-4878-aa22-d1cd8add3baf",
   "metadata": {},
   "outputs": [],
   "source": [
    "def init_ddb_from_csv(db_filename, tablename, csv_filename, **kwargs):\n",
    "    \"\"\"\n",
    "    Load from the csv file into a DuckDB database.\n",
    "    \n",
    "    db_filename: Name of the database\n",
    "    tablename: Table to load to\n",
    "    csv_filename: CSV file to load from\n",
    "    **kwargs: Options for DuckDB's read_csv function, see https://duckdb.org/docs/data/csv/overview\n",
    "    \"\"\"\n",
    "    import duckdb\n",
    "    duckdb_con = duckdb.connect(db_filename)\n",
    "    read_csv_args_list = [\"'{}'\".format(csv_filename)]\n",
    "    schema = {tablename : {\n",
    "        \"fact\" : tablename + \"_fact\",\n",
    "        \"dimension_tables\" : {},\n",
    "        \"col_to_table_map\" : {}\n",
    "    }}\n",
    "    for key, value in kwargs.items():\n",
    "        read_csv_args_list.append(\"{0} = {1}\".format(key, value))\n",
    "    read_csv_args = ','.join(read_csv_args_list)\n",
    "    sql_stmt = \"CREATE TABLE {} AS SELECT * FROM read_csv({}, AUTO_DETECT=TRUE)\".format(tablename, read_csv_args)\n",
    "    print(sql_stmt)\n",
    "    duckdb_con.sql(sql_stmt)\n",
    "    table = duckdb_con.table(tablename)\n",
    "    for col in table.columns:\n",
    "        schema[tablename][\"col_to_table_map\"][col] = schema[tablename][\"fact\"]\n",
    "    duckdb_con.close()\n",
    "    return schema\n",
    "\n",
    "def init_ddb_from_split_csv(db_filename, tablename, split_csv_foldername, **kwargs):\n",
    "    \"\"\"\n",
    "    Load the split csv file into a DuckDB database and expose a view with tablename\n",
    "\n",
    "    db_filename: Name of the database\n",
    "    tablename: View to expose giving the impression of a table\n",
    "    csv_filename: Folder containing the split CSV files\n",
    "    **kwargs: Options for DuckDB's read_csv function, see https://duckdb.org/docs/data/csv/overview\n",
    "    \"\"\"\n",
    "    import duckdb\n",
    "    import os\n",
    "    duckdb_con = duckdb.connect(db_filename)\n",
    "    schema = {tablename : {\n",
    "        \"fact\" : tablename + \"_fact\",\n",
    "        \"dimension_tables\" : {},\n",
    "        \"col_to_table_map\" : {}\n",
    "    }}\n",
    "    read_csv_args_list = [\"AUTO_DETECT = TRUE\"]\n",
    "    for key, value in kwargs.items():\n",
    "        read_csv_args_list.append(\"{0} = {1}\".format(key, value))\n",
    "    read_csv_args = ','.join(read_csv_args_list)\n",
    "    num_dims = 0\n",
    "    cols = []\n",
    "    sub_tablenames = []\n",
    "    for root, dirs, files in os.walk(split_csv_foldername):\n",
    "        for file in files:\n",
    "            sub_tablename = tablename + \"_\" + file.split(\".csv\")[0]\n",
    "            sub_tablenames.append(sub_tablename)\n",
    "            if 'dim' in file:\n",
    "                num_dims += 1\n",
    "                # Assuming that dimension tables are named dimx.csv\n",
    "                dim_no = sub_tablename.split(\"dim\")[1]\n",
    "                schema[tablename][\"dimension_tables\"][sub_tablename] = 'p' + dim_no\n",
    "            full_filename = root + '/' + file\n",
    "            sql_stmt = \"CREATE TABLE {} AS SELECT * FROM read_csv('{}', {})\".format(sub_tablename, full_filename, read_csv_args)\n",
    "            print(sql_stmt)\n",
    "            duckdb_con.sql(sql_stmt)\n",
    "            table = duckdb_con.table(sub_tablename)\n",
    "            for col in table.columns:\n",
    "                # HACK: not fool proof, the CSV could contain a column starting with letter 'p'\n",
    "                if col[0] == 'p':\n",
    "                    continue\n",
    "                cols.append('\"' + col + '\"')\n",
    "                schema[tablename]['col_to_table_map'][col] = sub_tablename\n",
    "\n",
    "    # Now create a view corresponding to a single original csv file\n",
    "    join_clauses = []\n",
    "    for i in range(num_dims):\n",
    "        join_clause = \"{}_fact.p{} = {}_dim{}.p{}\".format(tablename, i, tablename, i, i)\n",
    "        join_clauses.append(join_clause)\n",
    "\n",
    "    sql_stmt = \"CREATE VIEW {} AS SELECT \".format(tablename) + \",\".join(cols) + \\\n",
    "        \" FROM \" + \",\".join(sub_tablenames) + \" WHERE \" + (\" AND \").join(join_clauses)\n",
    "    print(sql_stmt)\n",
    "    duckdb_con.sql(sql_stmt)\n",
    "    duckdb_con.close()\n",
    "    return schema"
   ]
  },
  {
   "cell_type": "code",
   "execution_count": 2,
   "id": "8a987015-afbf-4407-9d54-37d1028662e8",
   "metadata": {},
   "outputs": [
    {
     "name": "stdout",
     "output_type": "stream",
     "text": [
      "CREATE TABLE tickets_2014 AS SELECT * FROM read_csv('nyc_parking_tickets/Parking_Violations_Issued_-_Fiscal_Year_2014__August_2013___June_2014_.csv',SAMPLE_SIZE = -1, AUTO_DETECT=TRUE)\n"
     ]
    },
    {
     "data": {
      "application/vnd.jupyter.widget-view+json": {
       "model_id": "e77cdaa713f442028f4d6e4981652fe0",
       "version_major": 2,
       "version_minor": 0
      },
      "text/plain": [
       "FloatProgress(value=0.0, layout=Layout(width='auto'), style=ProgressStyle(bar_color='black'))"
      ]
     },
     "metadata": {},
     "output_type": "display_data"
    },
    {
     "name": "stdout",
     "output_type": "stream",
     "text": [
      "CREATE TABLE tickets_2015 AS SELECT * FROM read_csv('nyc_parking_tickets/Parking_Violations_Issued_-_Fiscal_Year_2015.csv',SAMPLE_SIZE = -1, AUTO_DETECT=TRUE)\n"
     ]
    },
    {
     "data": {
      "application/vnd.jupyter.widget-view+json": {
       "model_id": "7ae49830ab0f4c3f9f3cfb4a64568bc1",
       "version_major": 2,
       "version_minor": 0
      },
      "text/plain": [
       "FloatProgress(value=0.0, layout=Layout(width='auto'), style=ProgressStyle(bar_color='black'))"
      ]
     },
     "metadata": {},
     "output_type": "display_data"
    },
    {
     "name": "stdout",
     "output_type": "stream",
     "text": [
      "CREATE TABLE tickets_2016 AS SELECT * FROM read_csv('nyc_parking_tickets/Parking_Violations_Issued_-_Fiscal_Year_2016.csv',SAMPLE_SIZE = -1, AUTO_DETECT=TRUE)\n"
     ]
    },
    {
     "data": {
      "application/vnd.jupyter.widget-view+json": {
       "model_id": "009c70c3d865438c8eed591d44f600c6",
       "version_major": 2,
       "version_minor": 0
      },
      "text/plain": [
       "FloatProgress(value=0.0, layout=Layout(width='auto'), style=ProgressStyle(bar_color='black'))"
      ]
     },
     "metadata": {},
     "output_type": "display_data"
    }
   ],
   "source": [
    "dbname = \"nyc_parking_tickets.db\"\n",
    "\n",
    "# # Default format\n",
    "tablename = \"tickets_2014\"\n",
    "input_file = \"nyc_parking_tickets/Parking_Violations_Issued_-_Fiscal_Year_2014__August_2013___June_2014_.csv\"\n",
    "schema1 = init_ddb_from_csv(dbname, tablename, input_file, SAMPLE_SIZE=-1)\n",
    "\n",
    "tablename = \"tickets_2015\"\n",
    "input_file = \"nyc_parking_tickets/Parking_Violations_Issued_-_Fiscal_Year_2015.csv\"\n",
    "schema2 = init_ddb_from_csv(dbname, tablename, input_file, SAMPLE_SIZE=-1)\n",
    "\n",
    "tablename = \"tickets_2016\"\n",
    "input_file = \"nyc_parking_tickets/Parking_Violations_Issued_-_Fiscal_Year_2016.csv\"\n",
    "schema3 = init_ddb_from_csv(dbname, tablename, input_file, SAMPLE_SIZE=-1)\n",
    "\n",
    "# # Currently a bug in DuckDB\n",
    "# # See issue https://github.com/duckdb/duckdb/issues/8649\n",
    "# # tablename = \"tickets_2017\"\n",
    "# # input_file = \"nyc_parking_tickets/Parking_Violations_Issued_-_Fiscal_Year_2017.csv\"\n",
    "# # schema4 = init_ddb_from_csv(dbname, tablename, input_file, SAMPLE_SIZE=-1)\n",
    "\n",
    "# # Split format\n",
    "# tablename = \"tickets_2014\"\n",
    "# input_file = \"nyc_parking_tickets_split/Parking_Violations_Issued_-_Fiscal_Year_2014__August_2013___June_2014_\"\n",
    "# schema1 = init_ddb_from_split_csv(dbname, tablename, input_file, SAMPLE_SIZE=-1)\n",
    "\n",
    "# tablename = \"tickets_2015\"\n",
    "# input_file = \"nyc_parking_tickets_split/Parking_Violations_Issued_-_Fiscal_Year_2015\"\n",
    "# schema2 = init_ddb_from_split_csv(dbname, tablename, input_file, SAMPLE_SIZE=-1)\n",
    "\n",
    "# tablename = \"tickets_2016\"\n",
    "# input_file = \"nyc_parking_tickets_split/Parking_Violations_Issued_-_Fiscal_Year_2016\"\n",
    "# schema3 = init_ddb_from_split_csv(dbname, tablename, input_file, SAMPLE_SIZE=-1)\n",
    "\n",
    "# # Currently a bug in DuckDB\n",
    "# # See issue https://github.com/duckdb/duckdb/issues/8649\n",
    "# # tablename = \"tickets_2017\"\n",
    "# # input_file = \"nyc_parking_tickets_split/Parking_Violations_Issued_-_Fiscal_Year_2017\"\n",
    "# # schema4 = init_ddb_from_split_csv(dbname, tablename, input_file, SAMPLE_SIZE=-1)"
   ]
  },
  {
   "cell_type": "code",
   "execution_count": 3,
   "id": "971ac375-83f5-4878-9994-2367eee4ef3a",
   "metadata": {},
   "outputs": [
    {
     "data": {
      "text/plain": [
       "Tables\n",
       "------\n",
       "- tickets_2014\n",
       "- tickets_2015\n",
       "- tickets_2016"
      ]
     },
     "execution_count": 3,
     "metadata": {},
     "output_type": "execute_result"
    }
   ],
   "source": [
    "import numpy as np\n",
    "import pandas as pd\n",
    "import ibis\n",
    "import os\n",
    "\n",
    "# Since we want all expressions to run, even if the output is not used\n",
    "# By default, expressions are lazily evaluated\n",
    "# The function call to_pandas() explicitly evaluates an expression\n",
    "# We want to avoid invoking to_pandas() all the time\n",
    "ibis.options.interactive = True\n",
    "\n",
    "con = ibis.duckdb.connect(dbname)\n",
    "for schema in [schema1, schema2, schema3]:\n",
    "    con.register_schema(schema)\n",
    "con.tables"
   ]
  },
  {
   "cell_type": "code",
   "execution_count": 4,
   "id": "d40ccd7f-7f8e-4ade-9549-375aba060871",
   "metadata": {},
   "outputs": [],
   "source": [
    "tickets_2014 = con.table('tickets_2014')\n",
    "tickets_2015 = con.table('tickets_2015')\n",
    "tickets_2016 = con.table('tickets_2016')"
   ]
  },
  {
   "cell_type": "code",
   "execution_count": 7,
   "id": "079f9a2c-94e4-4e3f-8207-084bf025b7c3",
   "metadata": {},
   "outputs": [],
   "source": [
    "tickets_2014 = tickets_2014.mutate(month=tickets_2014['Issue Date'].month())\n",
    "tickets_2015 = tickets_2015.mutate(month=tickets_2015['Issue Date'].month())\n",
    "tickets_2016 = tickets_2016.mutate(month=tickets_2016['Issue Date'].month())\n",
    "\n",
    "tickets_2014 = tickets_2014.mutate(year=tickets_2014['Issue Date'].year())\n",
    "tickets_2015 = tickets_2015.mutate(year=tickets_2015['Issue Date'].year())\n",
    "tickets_2016 = tickets_2016.mutate(year=tickets_2016['Issue Date'].year())"
   ]
  },
  {
   "cell_type": "code",
   "execution_count": 11,
   "id": "2214ceef-a082-4b7e-ba45-9db0743451e8",
   "metadata": {},
   "outputs": [
    {
     "data": {
      "text/html": [
       "<pre style=\"white-space:pre;overflow-x:auto;line-height:normal;font-family:Menlo,'DejaVu Sans Mono',consolas,'Courier New',monospace\"></pre>\n"
      ],
      "text/plain": []
     },
     "metadata": {},
     "output_type": "display_data"
    },
    {
     "name": "stdout",
     "output_type": "stream",
     "text": [
      "┏━━━━━━━┳━━━━━━━┳━━━━━━━━━━━━━┓\n",
      "┃\u001b[1m \u001b[0m\u001b[1myear\u001b[0m\u001b[1m \u001b[0m\u001b[1m \u001b[0m┃\u001b[1m \u001b[0m\u001b[1mmonth\u001b[0m\u001b[1m \u001b[0m┃\u001b[1m \u001b[0m\u001b[1mCountStar()\u001b[0m\u001b[1m \u001b[0m┃\n",
      "┡━━━━━━━╇━━━━━━━╇━━━━━━━━━━━━━┩\n",
      "│ \u001b[2mint32\u001b[0m │ \u001b[2mint32\u001b[0m │ \u001b[2mint64\u001b[0m       │\n",
      "├───────┼───────┼─────────────┤\n",
      "│  \u001b[1;36m2013\u001b[0m │     \u001b[1;36m1\u001b[0m │        \u001b[1;36m1590\u001b[0m │\n",
      "│  \u001b[1;36m2013\u001b[0m │     \u001b[1;36m2\u001b[0m │         \u001b[1;36m375\u001b[0m │\n",
      "│  \u001b[1;36m2013\u001b[0m │     \u001b[1;36m3\u001b[0m │         \u001b[1;36m461\u001b[0m │\n",
      "│  \u001b[1;36m2013\u001b[0m │     \u001b[1;36m4\u001b[0m │         \u001b[1;36m574\u001b[0m │\n",
      "│  \u001b[1;36m2013\u001b[0m │     \u001b[1;36m5\u001b[0m │         \u001b[1;36m276\u001b[0m │\n",
      "│  \u001b[1;36m2013\u001b[0m │     \u001b[1;36m6\u001b[0m │        \u001b[1;36m3272\u001b[0m │\n",
      "│  \u001b[1;36m2013\u001b[0m │     \u001b[1;36m7\u001b[0m │      \u001b[1;36m172711\u001b[0m │\n",
      "│  \u001b[1;36m2013\u001b[0m │     \u001b[1;36m8\u001b[0m │      \u001b[1;36m838280\u001b[0m │\n",
      "│  \u001b[1;36m2013\u001b[0m │     \u001b[1;36m9\u001b[0m │      \u001b[1;36m826688\u001b[0m │\n",
      "│  \u001b[1;36m2013\u001b[0m │    \u001b[1;36m10\u001b[0m │      \u001b[1;36m952833\u001b[0m │\n",
      "│     \u001b[2m…\u001b[0m │     \u001b[2m…\u001b[0m │           \u001b[2m…\u001b[0m │\n",
      "└───────┴───────┴─────────────┘\n",
      "\n"
     ]
    },
    {
     "data": {
      "text/html": [
       "<pre style=\"white-space:pre;overflow-x:auto;line-height:normal;font-family:Menlo,'DejaVu Sans Mono',consolas,'Courier New',monospace\"></pre>\n"
      ],
      "text/plain": []
     },
     "metadata": {},
     "output_type": "display_data"
    },
    {
     "name": "stdout",
     "output_type": "stream",
     "text": [
      "┏━━━━━━━┳━━━━━━━┳━━━━━━━━━━━━━┓\n",
      "┃\u001b[1m \u001b[0m\u001b[1myear\u001b[0m\u001b[1m \u001b[0m\u001b[1m \u001b[0m┃\u001b[1m \u001b[0m\u001b[1mmonth\u001b[0m\u001b[1m \u001b[0m┃\u001b[1m \u001b[0m\u001b[1mCountStar()\u001b[0m\u001b[1m \u001b[0m┃\n",
      "┡━━━━━━━╇━━━━━━━╇━━━━━━━━━━━━━┩\n",
      "│ \u001b[2mint32\u001b[0m │ \u001b[2mint32\u001b[0m │ \u001b[2mint64\u001b[0m       │\n",
      "├───────┼───────┼─────────────┤\n",
      "│  \u001b[1;36m2013\u001b[0m │     \u001b[1;36m1\u001b[0m │          \u001b[1;36m29\u001b[0m │\n",
      "│  \u001b[1;36m2013\u001b[0m │     \u001b[1;36m2\u001b[0m │          \u001b[1;36m15\u001b[0m │\n",
      "│  \u001b[1;36m2013\u001b[0m │     \u001b[1;36m3\u001b[0m │          \u001b[1;36m24\u001b[0m │\n",
      "│  \u001b[1;36m2013\u001b[0m │     \u001b[1;36m4\u001b[0m │          \u001b[1;36m11\u001b[0m │\n",
      "│  \u001b[1;36m2013\u001b[0m │     \u001b[1;36m5\u001b[0m │          \u001b[1;36m10\u001b[0m │\n",
      "│  \u001b[1;36m2013\u001b[0m │     \u001b[1;36m6\u001b[0m │          \u001b[1;36m87\u001b[0m │\n",
      "│  \u001b[1;36m2013\u001b[0m │     \u001b[1;36m7\u001b[0m │          \u001b[1;36m89\u001b[0m │\n",
      "│  \u001b[1;36m2013\u001b[0m │     \u001b[1;36m8\u001b[0m │          \u001b[1;36m90\u001b[0m │\n",
      "│  \u001b[1;36m2013\u001b[0m │     \u001b[1;36m9\u001b[0m │         \u001b[1;36m104\u001b[0m │\n",
      "│  \u001b[1;36m2013\u001b[0m │    \u001b[1;36m10\u001b[0m │          \u001b[1;36m52\u001b[0m │\n",
      "│     \u001b[2m…\u001b[0m │     \u001b[2m…\u001b[0m │           \u001b[2m…\u001b[0m │\n",
      "└───────┴───────┴─────────────┘\n",
      "\n"
     ]
    },
    {
     "data": {
      "text/html": [
       "<pre style=\"white-space:pre;overflow-x:auto;line-height:normal;font-family:Menlo,'DejaVu Sans Mono',consolas,'Courier New',monospace\"></pre>\n"
      ],
      "text/plain": []
     },
     "metadata": {},
     "output_type": "display_data"
    },
    {
     "name": "stdout",
     "output_type": "stream",
     "text": [
      "┏━━━━━━━┳━━━━━━━┳━━━━━━━━━━━━━┓\n",
      "┃\u001b[1m \u001b[0m\u001b[1myear\u001b[0m\u001b[1m \u001b[0m\u001b[1m \u001b[0m┃\u001b[1m \u001b[0m\u001b[1mmonth\u001b[0m\u001b[1m \u001b[0m┃\u001b[1m \u001b[0m\u001b[1mCountStar()\u001b[0m\u001b[1m \u001b[0m┃\n",
      "┡━━━━━━━╇━━━━━━━╇━━━━━━━━━━━━━┩\n",
      "│ \u001b[2mint32\u001b[0m │ \u001b[2mint32\u001b[0m │ \u001b[2mint64\u001b[0m       │\n",
      "├───────┼───────┼─────────────┤\n",
      "│  \u001b[1;36m2013\u001b[0m │     \u001b[1;36m1\u001b[0m │           \u001b[1;36m5\u001b[0m │\n",
      "│  \u001b[1;36m2013\u001b[0m │     \u001b[1;36m2\u001b[0m │           \u001b[1;36m4\u001b[0m │\n",
      "│  \u001b[1;36m2013\u001b[0m │     \u001b[1;36m3\u001b[0m │          \u001b[1;36m11\u001b[0m │\n",
      "│  \u001b[1;36m2013\u001b[0m │     \u001b[1;36m4\u001b[0m │          \u001b[1;36m11\u001b[0m │\n",
      "│  \u001b[1;36m2013\u001b[0m │     \u001b[1;36m5\u001b[0m │           \u001b[1;36m4\u001b[0m │\n",
      "│  \u001b[1;36m2013\u001b[0m │     \u001b[1;36m6\u001b[0m │           \u001b[1;36m6\u001b[0m │\n",
      "│  \u001b[1;36m2013\u001b[0m │     \u001b[1;36m7\u001b[0m │           \u001b[1;36m6\u001b[0m │\n",
      "│  \u001b[1;36m2013\u001b[0m │     \u001b[1;36m8\u001b[0m │          \u001b[1;36m13\u001b[0m │\n",
      "│  \u001b[1;36m2013\u001b[0m │     \u001b[1;36m9\u001b[0m │          \u001b[1;36m14\u001b[0m │\n",
      "│  \u001b[1;36m2013\u001b[0m │    \u001b[1;36m10\u001b[0m │          \u001b[1;36m18\u001b[0m │\n",
      "│     \u001b[2m…\u001b[0m │     \u001b[2m…\u001b[0m │           \u001b[2m…\u001b[0m │\n",
      "└───────┴───────┴─────────────┘\n",
      "\n"
     ]
    }
   ],
   "source": [
    "tickets_2014_2012_to_2018 = tickets_2014[tickets_2014.year > 2012]\n",
    "tickets_2014_2012_to_2018 = tickets_2014_2012_to_2018[tickets_2014_2012_to_2018.year < 2018]\n",
    "groups = tickets_2014_2012_to_2018.group_by(['year', 'month']).aggregate(tickets_2014_2012_to_2018.count())\n",
    "print(groups)\n",
    "\n",
    "tickets_2015_2012_to_2018 = tickets_2015[tickets_2015.year > 2012]\n",
    "tickets_2015_2012_to_2018 = tickets_2015_2012_to_2018[tickets_2015_2012_to_2018.year < 2018]\n",
    "groups = tickets_2015_2012_to_2018.group_by(['year', 'month']).aggregate(tickets_2015_2012_to_2018.count())\n",
    "print(groups)\n",
    "\n",
    "tickets_2016_2012_to_2018 = tickets_2016[tickets_2016.year > 2012]\n",
    "tickets_2016_2012_to_2018 = tickets_2016_2012_to_2018[tickets_2016_2012_to_2018.year < 2018]\n",
    "groups = tickets_2016_2012_to_2018.group_by(['year', 'month']).aggregate(tickets_2016_2012_to_2018.count())\n",
    "print(groups)"
   ]
  },
  {
   "cell_type": "code",
   "execution_count": 15,
   "id": "02b463d8-26e5-4bcb-a182-ed62d8b08e43",
   "metadata": {},
   "outputs": [
    {
     "data": {
      "text/html": [
       "<pre style=\"white-space:pre;overflow-x:auto;line-height:normal;font-family:Menlo,'DejaVu Sans Mono',consolas,'Courier New',monospace\"></pre>\n"
      ],
      "text/plain": []
     },
     "metadata": {},
     "output_type": "display_data"
    },
    {
     "name": "stdout",
     "output_type": "stream",
     "text": [
      "┏━━━━━━━━━━━━━━┳━━━━━━━━━━━━━┓\n",
      "┃\u001b[1m \u001b[0m\u001b[1mVehicle Make\u001b[0m\u001b[1m \u001b[0m┃\u001b[1m \u001b[0m\u001b[1mCountStar()\u001b[0m\u001b[1m \u001b[0m┃\n",
      "┡━━━━━━━━━━━━━━╇━━━━━━━━━━━━━┩\n",
      "│ \u001b[2mstring\u001b[0m       │ \u001b[2mint64\u001b[0m       │\n",
      "├──────────────┼─────────────┤\n",
      "│ \u001b[32mTOYOT       \u001b[0m │      \u001b[1;36m878786\u001b[0m │\n",
      "│ \u001b[32mNISSA       \u001b[0m │      \u001b[1;36m655276\u001b[0m │\n",
      "│ \u001b[32mHONDA       \u001b[0m │      \u001b[1;36m810460\u001b[0m │\n",
      "│ \u001b[32mGMC         \u001b[0m │      \u001b[1;36m313671\u001b[0m │\n",
      "│ \u001b[32mMITSU       \u001b[0m │      \u001b[1;36m129208\u001b[0m │\n",
      "│ \u001b[32mMERCU       \u001b[0m │       \u001b[1;36m97696\u001b[0m │\n",
      "│ \u001b[32mCADIL       \u001b[0m │       \u001b[1;36m82261\u001b[0m │\n",
      "│ \u001b[32mCHEVR       \u001b[0m │      \u001b[1;36m743556\u001b[0m │\n",
      "│ \u001b[32mSATUR       \u001b[0m │       \u001b[1;36m26602\u001b[0m │\n",
      "│ \u001b[32mME/BE       \u001b[0m │      \u001b[1;36m299845\u001b[0m │\n",
      "│ \u001b[2m…\u001b[0m            │           \u001b[2m…\u001b[0m │\n",
      "└──────────────┴─────────────┘\n",
      "\n"
     ]
    },
    {
     "data": {
      "text/html": [
       "<pre style=\"white-space:pre;overflow-x:auto;line-height:normal;font-family:Menlo,'DejaVu Sans Mono',consolas,'Courier New',monospace\"></pre>\n"
      ],
      "text/plain": []
     },
     "metadata": {},
     "output_type": "display_data"
    },
    {
     "name": "stdout",
     "output_type": "stream",
     "text": [
      "┏━━━━━━━━━━━━━━┳━━━━━━━━━━━━━┓\n",
      "┃\u001b[1m \u001b[0m\u001b[1mVehicle Make\u001b[0m\u001b[1m \u001b[0m┃\u001b[1m \u001b[0m\u001b[1mCountStar()\u001b[0m\u001b[1m \u001b[0m┃\n",
      "┡━━━━━━━━━━━━━━╇━━━━━━━━━━━━━┩\n",
      "│ \u001b[2mstring\u001b[0m       │ \u001b[2mint64\u001b[0m       │\n",
      "├──────────────┼─────────────┤\n",
      "│ \u001b[32mFRUEH       \u001b[0m │      \u001b[1;36m432073\u001b[0m │\n",
      "│ \u001b[32mFORD        \u001b[0m │     \u001b[1;36m1521874\u001b[0m │\n",
      "│ \u001b[32mNISSA       \u001b[0m │      \u001b[1;36m908783\u001b[0m │\n",
      "│ \u001b[32mHONDA       \u001b[0m │     \u001b[1;36m1102614\u001b[0m │\n",
      "│ \u001b[32mDODGE       \u001b[0m │      \u001b[1;36m403307\u001b[0m │\n",
      "│ \u001b[32mACURA       \u001b[0m │      \u001b[1;36m214310\u001b[0m │\n",
      "│ \u001b[32mCHRYS       \u001b[0m │      \u001b[1;36m209736\u001b[0m │\n",
      "│ \u001b[32mBMW         \u001b[0m │      \u001b[1;36m377156\u001b[0m │\n",
      "│ \u001b[32mKIA         \u001b[0m │      \u001b[1;36m101821\u001b[0m │\n",
      "│ \u001b[32mCHEVR       \u001b[0m │      \u001b[1;36m897845\u001b[0m │\n",
      "│ \u001b[2m…\u001b[0m            │           \u001b[2m…\u001b[0m │\n",
      "└──────────────┴─────────────┘\n",
      "\n"
     ]
    },
    {
     "data": {
      "text/html": [
       "<pre style=\"white-space:pre;overflow-x:auto;line-height:normal;font-family:Menlo,'DejaVu Sans Mono',consolas,'Courier New',monospace\"></pre>\n"
      ],
      "text/plain": []
     },
     "metadata": {},
     "output_type": "display_data"
    },
    {
     "name": "stdout",
     "output_type": "stream",
     "text": [
      "┏━━━━━━━━━━━━━━┳━━━━━━━━━━━━━┓\n",
      "┃\u001b[1m \u001b[0m\u001b[1mVehicle Make\u001b[0m\u001b[1m \u001b[0m┃\u001b[1m \u001b[0m\u001b[1mCountStar()\u001b[0m\u001b[1m \u001b[0m┃\n",
      "┡━━━━━━━━━━━━━━╇━━━━━━━━━━━━━┩\n",
      "│ \u001b[2mstring\u001b[0m       │ \u001b[2mint64\u001b[0m       │\n",
      "├──────────────┼─────────────┤\n",
      "│ \u001b[32mNISSA       \u001b[0m │      \u001b[1;36m834833\u001b[0m │\n",
      "│ \u001b[32mHONDA       \u001b[0m │     \u001b[1;36m1014074\u001b[0m │\n",
      "│ \u001b[32mFORD        \u001b[0m │     \u001b[1;36m1324774\u001b[0m │\n",
      "│ \u001b[32mDODGE       \u001b[0m │      \u001b[1;36m359203\u001b[0m │\n",
      "│ \u001b[32mTOYOT       \u001b[0m │     \u001b[1;36m1154790\u001b[0m │\n",
      "│ \u001b[32mJEEP        \u001b[0m │      \u001b[1;36m302513\u001b[0m │\n",
      "│ \u001b[32mVOLVO       \u001b[0m │       \u001b[1;36m76708\u001b[0m │\n",
      "│ \u001b[32mCHEVR       \u001b[0m │      \u001b[1;36m759663\u001b[0m │\n",
      "│ \u001b[32mME/BE       \u001b[0m │      \u001b[1;36m362575\u001b[0m │\n",
      "│ \u001b[32mBMW         \u001b[0m │      \u001b[1;36m353303\u001b[0m │\n",
      "│ \u001b[2m…\u001b[0m            │           \u001b[2m…\u001b[0m │\n",
      "└──────────────┴─────────────┘\n",
      "\n"
     ]
    }
   ],
   "source": [
    "group_by_make_2014 = tickets_2014.group_by('Vehicle Make').aggregate(tickets_2014.count())\n",
    "group_by_make_2015 = tickets_2015.group_by('Vehicle Make').aggregate(tickets_2015.count())\n",
    "group_by_make_2016 = tickets_2016.group_by('Vehicle Make').aggregate(tickets_2016.count())\n",
    "print(group_by_make_2014)\n",
    "print(group_by_make_2015)\n",
    "print(group_by_make_2016)"
   ]
  },
  {
   "cell_type": "code",
   "execution_count": 14,
   "id": "5b8bde26-73aa-4849-87fa-a8056e8aa0cc",
   "metadata": {},
   "outputs": [
    {
     "data": {
      "text/html": [
       "<pre style=\"white-space:pre;overflow-x:auto;line-height:normal;font-family:Menlo,'DejaVu Sans Mono',consolas,'Courier New',monospace\"></pre>\n"
      ],
      "text/plain": []
     },
     "metadata": {},
     "output_type": "display_data"
    },
    {
     "name": "stdout",
     "output_type": "stream",
     "text": [
      "┏━━━━━━━┳━━━━━━━━━━━━━━┳━━━━━━━━━━━━━┓\n",
      "┃\u001b[1m \u001b[0m\u001b[1myear\u001b[0m\u001b[1m \u001b[0m\u001b[1m \u001b[0m┃\u001b[1m \u001b[0m\u001b[1mVehicle Make\u001b[0m\u001b[1m \u001b[0m┃\u001b[1m \u001b[0m\u001b[1mCountStar()\u001b[0m\u001b[1m \u001b[0m┃\n",
      "┡━━━━━━━╇━━━━━━━━━━━━━━╇━━━━━━━━━━━━━┩\n",
      "│ \u001b[2mint32\u001b[0m │ \u001b[2mstring\u001b[0m       │ \u001b[2mint64\u001b[0m       │\n",
      "├───────┼──────────────┼─────────────┤\n",
      "│  \u001b[1;36m2013\u001b[0m │ \u001b[32mTOYOT       \u001b[0m │      \u001b[1;36m427072\u001b[0m │\n",
      "│  \u001b[1;36m2013\u001b[0m │ \u001b[32mNISSA       \u001b[0m │      \u001b[1;36m313727\u001b[0m │\n",
      "│  \u001b[1;36m2013\u001b[0m │ \u001b[32mHONDA       \u001b[0m │      \u001b[1;36m391529\u001b[0m │\n",
      "│  \u001b[1;36m2013\u001b[0m │ \u001b[32mGMC         \u001b[0m │      \u001b[1;36m150681\u001b[0m │\n",
      "│  \u001b[1;36m2013\u001b[0m │ \u001b[32mMITSU       \u001b[0m │       \u001b[1;36m64716\u001b[0m │\n",
      "│  \u001b[1;36m2013\u001b[0m │ \u001b[32mMERCU       \u001b[0m │       \u001b[1;36m49989\u001b[0m │\n",
      "│  \u001b[1;36m2013\u001b[0m │ \u001b[32mCADIL       \u001b[0m │       \u001b[1;36m39905\u001b[0m │\n",
      "│  \u001b[1;36m2013\u001b[0m │ \u001b[32mCHEVR       \u001b[0m │      \u001b[1;36m356989\u001b[0m │\n",
      "│  \u001b[1;36m2013\u001b[0m │ \u001b[32mSATUR       \u001b[0m │       \u001b[1;36m13509\u001b[0m │\n",
      "│  \u001b[1;36m2013\u001b[0m │ \u001b[32mME/BE       \u001b[0m │      \u001b[1;36m145388\u001b[0m │\n",
      "│     \u001b[2m…\u001b[0m │ \u001b[2m…\u001b[0m            │           \u001b[2m…\u001b[0m │\n",
      "└───────┴──────────────┴─────────────┘\n",
      "\n"
     ]
    },
    {
     "data": {
      "text/html": [
       "<pre style=\"white-space:pre;overflow-x:auto;line-height:normal;font-family:Menlo,'DejaVu Sans Mono',consolas,'Courier New',monospace\"></pre>\n"
      ],
      "text/plain": []
     },
     "metadata": {},
     "output_type": "display_data"
    },
    {
     "name": "stdout",
     "output_type": "stream",
     "text": [
      "┏━━━━━━━┳━━━━━━━━━━━━━━┳━━━━━━━━━━━━━┓\n",
      "┃\u001b[1m \u001b[0m\u001b[1myear\u001b[0m\u001b[1m \u001b[0m\u001b[1m \u001b[0m┃\u001b[1m \u001b[0m\u001b[1mVehicle Make\u001b[0m\u001b[1m \u001b[0m┃\u001b[1m \u001b[0m\u001b[1mCountStar()\u001b[0m\u001b[1m \u001b[0m┃\n",
      "┡━━━━━━━╇━━━━━━━━━━━━━━╇━━━━━━━━━━━━━┩\n",
      "│ \u001b[2mint32\u001b[0m │ \u001b[2mstring\u001b[0m       │ \u001b[2mint64\u001b[0m       │\n",
      "├───────┼──────────────┼─────────────┤\n",
      "│  \u001b[1;36m2015\u001b[0m │ \u001b[32mHONDA       \u001b[0m │      \u001b[1;36m557315\u001b[0m │\n",
      "│  \u001b[1;36m2014\u001b[0m │ \u001b[32mBMW         \u001b[0m │      \u001b[1;36m183539\u001b[0m │\n",
      "│  \u001b[1;36m2014\u001b[0m │ \u001b[32mCHEVR       \u001b[0m │      \u001b[1;36m447652\u001b[0m │\n",
      "│  \u001b[1;36m2015\u001b[0m │ \u001b[32mMITSU       \u001b[0m │       \u001b[1;36m70124\u001b[0m │\n",
      "│  \u001b[1;36m2014\u001b[0m │ \u001b[32mHONDA       \u001b[0m │      \u001b[1;36m545161\u001b[0m │\n",
      "│  \u001b[1;36m2015\u001b[0m │ \u001b[32mCHEVR       \u001b[0m │      \u001b[1;36m450117\u001b[0m │\n",
      "│  \u001b[1;36m2014\u001b[0m │ \u001b[32mGMC         \u001b[0m │      \u001b[1;36m178360\u001b[0m │\n",
      "│  \u001b[1;36m2014\u001b[0m │ \u001b[32mME/BE       \u001b[0m │      \u001b[1;36m189034\u001b[0m │\n",
      "│  \u001b[1;36m2014\u001b[0m │ \u001b[32mFRUEH       \u001b[0m │      \u001b[1;36m200994\u001b[0m │\n",
      "│  \u001b[1;36m2015\u001b[0m │ \u001b[32mHYUND       \u001b[0m │      \u001b[1;36m138198\u001b[0m │\n",
      "│     \u001b[2m…\u001b[0m │ \u001b[2m…\u001b[0m            │           \u001b[2m…\u001b[0m │\n",
      "└───────┴──────────────┴─────────────┘\n",
      "\n"
     ]
    },
    {
     "data": {
      "text/html": [
       "<pre style=\"white-space:pre;overflow-x:auto;line-height:normal;font-family:Menlo,'DejaVu Sans Mono',consolas,'Courier New',monospace\"></pre>\n"
      ],
      "text/plain": []
     },
     "metadata": {},
     "output_type": "display_data"
    },
    {
     "name": "stdout",
     "output_type": "stream",
     "text": [
      "┏━━━━━━━┳━━━━━━━━━━━━━━┳━━━━━━━━━━━━━┓\n",
      "┃\u001b[1m \u001b[0m\u001b[1myear\u001b[0m\u001b[1m \u001b[0m\u001b[1m \u001b[0m┃\u001b[1m \u001b[0m\u001b[1mVehicle Make\u001b[0m\u001b[1m \u001b[0m┃\u001b[1m \u001b[0m\u001b[1mCountStar()\u001b[0m\u001b[1m \u001b[0m┃\n",
      "┡━━━━━━━╇━━━━━━━━━━━━━━╇━━━━━━━━━━━━━┩\n",
      "│ \u001b[2mint32\u001b[0m │ \u001b[2mstring\u001b[0m       │ \u001b[2mint64\u001b[0m       │\n",
      "├───────┼──────────────┼─────────────┤\n",
      "│  \u001b[1;36m2015\u001b[0m │ \u001b[32mTOYOT       \u001b[0m │      \u001b[1;36m625355\u001b[0m │\n",
      "│  \u001b[1;36m2015\u001b[0m │ \u001b[32mFORD        \u001b[0m │      \u001b[1;36m712159\u001b[0m │\n",
      "│  \u001b[1;36m2015\u001b[0m │ \u001b[32mLINCO       \u001b[0m │       \u001b[1;36m58714\u001b[0m │\n",
      "│  \u001b[1;36m2015\u001b[0m │ \u001b[32mCADIL       \u001b[0m │       \u001b[1;36m47262\u001b[0m │\n",
      "│  \u001b[1;36m2015\u001b[0m │ \u001b[32mGMC         \u001b[0m │      \u001b[1;36m154406\u001b[0m │\n",
      "│  \u001b[1;36m2015\u001b[0m │ \u001b[32mCHEVR       \u001b[0m │      \u001b[1;36m420003\u001b[0m │\n",
      "│  \u001b[1;36m2015\u001b[0m │ \u001b[32mHONDA       \u001b[0m │      \u001b[1;36m554267\u001b[0m │\n",
      "│  \u001b[1;36m2015\u001b[0m │ \u001b[32mNISSA       \u001b[0m │      \u001b[1;36m452501\u001b[0m │\n",
      "│  \u001b[1;36m2015\u001b[0m │ \u001b[32mFRUEH       \u001b[0m │      \u001b[1;36m215683\u001b[0m │\n",
      "│  \u001b[1;36m2015\u001b[0m │ \u001b[32mMAZDA       \u001b[0m │       \u001b[1;36m57252\u001b[0m │\n",
      "│     \u001b[2m…\u001b[0m │ \u001b[2m…\u001b[0m            │           \u001b[2m…\u001b[0m │\n",
      "└───────┴──────────────┴─────────────┘\n",
      "\n"
     ]
    }
   ],
   "source": [
    "group_by_year_make_2014 = tickets_2014.group_by(['year', 'Vehicle Make']).aggregate(tickets_2014.count())\n",
    "group_by_year_make_2015 = tickets_2015.group_by(['year', 'Vehicle Make']).aggregate(tickets_2015.count())\n",
    "group_by_year_make_2016 = tickets_2016.group_by(['year', 'Vehicle Make']).aggregate(tickets_2016.count())\n",
    "print(group_by_year_make_2014)\n",
    "print(group_by_year_make_2015)\n",
    "print(group_by_year_make_2016)"
   ]
  },
  {
   "cell_type": "code",
   "execution_count": 17,
   "id": "ba0118fb-cff3-44ea-879b-f75617efc63b",
   "metadata": {},
   "outputs": [
    {
     "data": {
      "text/html": [
       "<pre style=\"white-space:pre;overflow-x:auto;line-height:normal;font-family:Menlo,'DejaVu Sans Mono',consolas,'Courier New',monospace\"></pre>\n"
      ],
      "text/plain": []
     },
     "metadata": {},
     "output_type": "display_data"
    },
    {
     "name": "stdout",
     "output_type": "stream",
     "text": [
      "┏━━━━━━━━━━━━━━━━┳━━━━━━━━━━━━━┓\n",
      "┃\u001b[1m \u001b[0m\u001b[1mViolation Code\u001b[0m\u001b[1m \u001b[0m┃\u001b[1m \u001b[0m\u001b[1mCountStar()\u001b[0m\u001b[1m \u001b[0m┃\n",
      "┡━━━━━━━━━━━━━━━━╇━━━━━━━━━━━━━┩\n",
      "│ \u001b[2mint64\u001b[0m          │ \u001b[2mint64\u001b[0m       │\n",
      "├────────────────┼─────────────┤\n",
      "│              \u001b[1;36m0\u001b[0m │          \u001b[1;36m21\u001b[0m │\n",
      "│              \u001b[1;36m1\u001b[0m │          \u001b[1;36m18\u001b[0m │\n",
      "│              \u001b[1;36m2\u001b[0m │          \u001b[1;36m14\u001b[0m │\n",
      "│              \u001b[1;36m3\u001b[0m │          \u001b[1;36m15\u001b[0m │\n",
      "│              \u001b[1;36m4\u001b[0m │         \u001b[1;36m748\u001b[0m │\n",
      "│              \u001b[1;36m5\u001b[0m │      \u001b[1;36m131519\u001b[0m │\n",
      "│              \u001b[1;36m6\u001b[0m │         \u001b[1;36m314\u001b[0m │\n",
      "│              \u001b[1;36m7\u001b[0m │      \u001b[1;36m433213\u001b[0m │\n",
      "│              \u001b[1;36m8\u001b[0m │        \u001b[1;36m2800\u001b[0m │\n",
      "│              \u001b[1;36m9\u001b[0m │        \u001b[1;36m9122\u001b[0m │\n",
      "│              \u001b[2m…\u001b[0m │           \u001b[2m…\u001b[0m │\n",
      "└────────────────┴─────────────┘\n",
      "\n"
     ]
    },
    {
     "data": {
      "text/html": [
       "<pre style=\"white-space:pre;overflow-x:auto;line-height:normal;font-family:Menlo,'DejaVu Sans Mono',consolas,'Courier New',monospace\"></pre>\n"
      ],
      "text/plain": []
     },
     "metadata": {},
     "output_type": "display_data"
    },
    {
     "name": "stdout",
     "output_type": "stream",
     "text": [
      "┏━━━━━━━━━━━━━━━━┳━━━━━━━━━━━━━┓\n",
      "┃\u001b[1m \u001b[0m\u001b[1mViolation Code\u001b[0m\u001b[1m \u001b[0m┃\u001b[1m \u001b[0m\u001b[1mCountStar()\u001b[0m\u001b[1m \u001b[0m┃\n",
      "┡━━━━━━━━━━━━━━━━╇━━━━━━━━━━━━━┩\n",
      "│ \u001b[2mint64\u001b[0m          │ \u001b[2mint64\u001b[0m       │\n",
      "├────────────────┼─────────────┤\n",
      "│              \u001b[1;36m0\u001b[0m │          \u001b[1;36m17\u001b[0m │\n",
      "│              \u001b[1;36m1\u001b[0m │        \u001b[1;36m5325\u001b[0m │\n",
      "│              \u001b[1;36m2\u001b[0m │         \u001b[1;36m135\u001b[0m │\n",
      "│              \u001b[1;36m3\u001b[0m │        \u001b[1;36m4481\u001b[0m │\n",
      "│              \u001b[1;36m4\u001b[0m │         \u001b[1;36m956\u001b[0m │\n",
      "│              \u001b[1;36m5\u001b[0m │      \u001b[1;36m224560\u001b[0m │\n",
      "│              \u001b[1;36m6\u001b[0m │         \u001b[1;36m245\u001b[0m │\n",
      "│              \u001b[1;36m7\u001b[0m │      \u001b[1;36m719753\u001b[0m │\n",
      "│              \u001b[1;36m8\u001b[0m │        \u001b[1;36m3827\u001b[0m │\n",
      "│              \u001b[1;36m9\u001b[0m │       \u001b[1;36m10972\u001b[0m │\n",
      "│              \u001b[2m…\u001b[0m │           \u001b[2m…\u001b[0m │\n",
      "└────────────────┴─────────────┘\n",
      "\n"
     ]
    },
    {
     "data": {
      "text/html": [
       "<pre style=\"white-space:pre;overflow-x:auto;line-height:normal;font-family:Menlo,'DejaVu Sans Mono',consolas,'Courier New',monospace\"></pre>\n"
      ],
      "text/plain": []
     },
     "metadata": {},
     "output_type": "display_data"
    },
    {
     "name": "stdout",
     "output_type": "stream",
     "text": [
      "┏━━━━━━━━━━━━━━━━┳━━━━━━━━━━━━━┓\n",
      "┃\u001b[1m \u001b[0m\u001b[1mViolation Code\u001b[0m\u001b[1m \u001b[0m┃\u001b[1m \u001b[0m\u001b[1mCountStar()\u001b[0m\u001b[1m \u001b[0m┃\n",
      "┡━━━━━━━━━━━━━━━━╇━━━━━━━━━━━━━┩\n",
      "│ \u001b[2mint64\u001b[0m          │ \u001b[2mint64\u001b[0m       │\n",
      "├────────────────┼─────────────┤\n",
      "│              \u001b[1;36m0\u001b[0m │           \u001b[1;36m8\u001b[0m │\n",
      "│              \u001b[1;36m1\u001b[0m │        \u001b[1;36m1186\u001b[0m │\n",
      "│              \u001b[1;36m2\u001b[0m │         \u001b[1;36m106\u001b[0m │\n",
      "│              \u001b[1;36m3\u001b[0m │         \u001b[1;36m676\u001b[0m │\n",
      "│              \u001b[1;36m4\u001b[0m │         \u001b[1;36m824\u001b[0m │\n",
      "│              \u001b[1;36m5\u001b[0m │      \u001b[1;36m112405\u001b[0m │\n",
      "│              \u001b[1;36m6\u001b[0m │         \u001b[1;36m219\u001b[0m │\n",
      "│              \u001b[1;36m7\u001b[0m │      \u001b[1;36m492478\u001b[0m │\n",
      "│              \u001b[1;36m8\u001b[0m │        \u001b[1;36m2965\u001b[0m │\n",
      "│              \u001b[1;36m9\u001b[0m │       \u001b[1;36m13126\u001b[0m │\n",
      "│              \u001b[2m…\u001b[0m │           \u001b[2m…\u001b[0m │\n",
      "└────────────────┴─────────────┘\n",
      "\n"
     ]
    }
   ],
   "source": [
    "group_by_violation_code_2014 = tickets_2014.group_by('Violation Code').aggregate(tickets_2014.count())\n",
    "group_by_violation_code_2015 = tickets_2015.group_by('Violation Code').aggregate(tickets_2015.count())\n",
    "group_by_violation_code_2016 = tickets_2016.group_by('Violation Code').aggregate(tickets_2016.count())\n",
    "print(group_by_violation_code_2014)\n",
    "print(group_by_violation_code_2015)\n",
    "print(group_by_violation_code_2016)"
   ]
  },
  {
   "cell_type": "code",
   "execution_count": 18,
   "id": "19055bc2-edb4-4977-b478-ba0c7dffe8c5",
   "metadata": {},
   "outputs": [
    {
     "data": {
      "text/html": [
       "<pre style=\"white-space:pre;overflow-x:auto;line-height:normal;font-family:Menlo,'DejaVu Sans Mono',consolas,'Courier New',monospace\"></pre>\n"
      ],
      "text/plain": []
     },
     "metadata": {},
     "output_type": "display_data"
    },
    {
     "name": "stdout",
     "output_type": "stream",
     "text": [
      "┏━━━━━━━┳━━━━━━━━━━━━━━━━┳━━━━━━━━━━━━━┓\n",
      "┃\u001b[1m \u001b[0m\u001b[1myear\u001b[0m\u001b[1m \u001b[0m\u001b[1m \u001b[0m┃\u001b[1m \u001b[0m\u001b[1mViolation Code\u001b[0m\u001b[1m \u001b[0m┃\u001b[1m \u001b[0m\u001b[1mCountStar()\u001b[0m\u001b[1m \u001b[0m┃\n",
      "┡━━━━━━━╇━━━━━━━━━━━━━━━━╇━━━━━━━━━━━━━┩\n",
      "│ \u001b[2mint32\u001b[0m │ \u001b[2mint64\u001b[0m          │ \u001b[2mint64\u001b[0m       │\n",
      "├───────┼────────────────┼─────────────┤\n",
      "│  \u001b[1;36m2013\u001b[0m │              \u001b[1;36m5\u001b[0m │       \u001b[1;36m83408\u001b[0m │\n",
      "│  \u001b[1;36m2013\u001b[0m │              \u001b[1;36m7\u001b[0m │      \u001b[1;36m263455\u001b[0m │\n",
      "│  \u001b[1;36m2013\u001b[0m │             \u001b[1;36m21\u001b[0m │      \u001b[1;36m640686\u001b[0m │\n",
      "│  \u001b[1;36m2013\u001b[0m │             \u001b[1;36m71\u001b[0m │      \u001b[1;36m227488\u001b[0m │\n",
      "│  \u001b[1;36m2013\u001b[0m │             \u001b[1;36m19\u001b[0m │      \u001b[1;36m135003\u001b[0m │\n",
      "│  \u001b[1;36m2013\u001b[0m │             \u001b[1;36m20\u001b[0m │      \u001b[1;36m257097\u001b[0m │\n",
      "│  \u001b[1;36m2013\u001b[0m │             \u001b[1;36m14\u001b[0m │      \u001b[1;36m409225\u001b[0m │\n",
      "│  \u001b[1;36m2013\u001b[0m │             \u001b[1;36m70\u001b[0m │      \u001b[1;36m100286\u001b[0m │\n",
      "│  \u001b[1;36m2013\u001b[0m │             \u001b[1;36m37\u001b[0m │      \u001b[1;36m354456\u001b[0m │\n",
      "│  \u001b[1;36m2013\u001b[0m │             \u001b[1;36m40\u001b[0m │      \u001b[1;36m214956\u001b[0m │\n",
      "│     \u001b[2m…\u001b[0m │              \u001b[2m…\u001b[0m │           \u001b[2m…\u001b[0m │\n",
      "└───────┴────────────────┴─────────────┘\n",
      "\n"
     ]
    },
    {
     "data": {
      "text/html": [
       "<pre style=\"white-space:pre;overflow-x:auto;line-height:normal;font-family:Menlo,'DejaVu Sans Mono',consolas,'Courier New',monospace\"></pre>\n"
      ],
      "text/plain": []
     },
     "metadata": {},
     "output_type": "display_data"
    },
    {
     "name": "stdout",
     "output_type": "stream",
     "text": [
      "┏━━━━━━━┳━━━━━━━━━━━━━━━━┳━━━━━━━━━━━━━┓\n",
      "┃\u001b[1m \u001b[0m\u001b[1myear\u001b[0m\u001b[1m \u001b[0m\u001b[1m \u001b[0m┃\u001b[1m \u001b[0m\u001b[1mViolation Code\u001b[0m\u001b[1m \u001b[0m┃\u001b[1m \u001b[0m\u001b[1mCountStar()\u001b[0m\u001b[1m \u001b[0m┃\n",
      "┡━━━━━━━╇━━━━━━━━━━━━━━━━╇━━━━━━━━━━━━━┩\n",
      "│ \u001b[2mint32\u001b[0m │ \u001b[2mint64\u001b[0m          │ \u001b[2mint64\u001b[0m       │\n",
      "├───────┼────────────────┼─────────────┤\n",
      "│  \u001b[1;36m2015\u001b[0m │             \u001b[1;36m78\u001b[0m │       \u001b[1;36m35865\u001b[0m │\n",
      "│  \u001b[1;36m2014\u001b[0m │             \u001b[1;36m21\u001b[0m │      \u001b[1;36m820819\u001b[0m │\n",
      "│  \u001b[1;36m2014\u001b[0m │             \u001b[1;36m38\u001b[0m │      \u001b[1;36m672060\u001b[0m │\n",
      "│  \u001b[1;36m2015\u001b[0m │             \u001b[1;36m38\u001b[0m │      \u001b[1;36m746562\u001b[0m │\n",
      "│  \u001b[1;36m2014\u001b[0m │             \u001b[1;36m71\u001b[0m │      \u001b[1;36m275786\u001b[0m │\n",
      "│  \u001b[1;36m2014\u001b[0m │             \u001b[1;36m46\u001b[0m │      \u001b[1;36m288225\u001b[0m │\n",
      "│  \u001b[1;36m2015\u001b[0m │             \u001b[1;36m70\u001b[0m │      \u001b[1;36m133451\u001b[0m │\n",
      "│  \u001b[1;36m2015\u001b[0m │             \u001b[1;36m14\u001b[0m │      \u001b[1;36m517733\u001b[0m │\n",
      "│  \u001b[1;36m2014\u001b[0m │             \u001b[1;36m40\u001b[0m │      \u001b[1;36m258027\u001b[0m │\n",
      "│  \u001b[1;36m2014\u001b[0m │             \u001b[1;36m19\u001b[0m │      \u001b[1;36m167064\u001b[0m │\n",
      "│     \u001b[2m…\u001b[0m │              \u001b[2m…\u001b[0m │           \u001b[2m…\u001b[0m │\n",
      "└───────┴────────────────┴─────────────┘\n",
      "\n"
     ]
    },
    {
     "data": {
      "text/html": [
       "<pre style=\"white-space:pre;overflow-x:auto;line-height:normal;font-family:Menlo,'DejaVu Sans Mono',consolas,'Courier New',monospace\"></pre>\n"
      ],
      "text/plain": []
     },
     "metadata": {},
     "output_type": "display_data"
    },
    {
     "name": "stdout",
     "output_type": "stream",
     "text": [
      "┏━━━━━━━┳━━━━━━━━━━━━━━━━┳━━━━━━━━━━━━━┓\n",
      "┃\u001b[1m \u001b[0m\u001b[1myear\u001b[0m\u001b[1m \u001b[0m\u001b[1m \u001b[0m┃\u001b[1m \u001b[0m\u001b[1mViolation Code\u001b[0m\u001b[1m \u001b[0m┃\u001b[1m \u001b[0m\u001b[1mCountStar()\u001b[0m\u001b[1m \u001b[0m┃\n",
      "┡━━━━━━━╇━━━━━━━━━━━━━━━━╇━━━━━━━━━━━━━┩\n",
      "│ \u001b[2mint32\u001b[0m │ \u001b[2mint64\u001b[0m          │ \u001b[2mint64\u001b[0m       │\n",
      "├───────┼────────────────┼─────────────┤\n",
      "│  \u001b[1;36m2015\u001b[0m │             \u001b[1;36m46\u001b[0m │      \u001b[1;36m308878\u001b[0m │\n",
      "│  \u001b[1;36m2015\u001b[0m │             \u001b[1;36m38\u001b[0m │      \u001b[1;36m596597\u001b[0m │\n",
      "│  \u001b[1;36m2015\u001b[0m │             \u001b[1;36m37\u001b[0m │      \u001b[1;36m356107\u001b[0m │\n",
      "│  \u001b[1;36m2015\u001b[0m │             \u001b[1;36m40\u001b[0m │      \u001b[1;36m249269\u001b[0m │\n",
      "│  \u001b[1;36m2015\u001b[0m │             \u001b[1;36m19\u001b[0m │      \u001b[1;36m158139\u001b[0m │\n",
      "│  \u001b[1;36m2015\u001b[0m │             \u001b[1;36m20\u001b[0m │      \u001b[1;36m321352\u001b[0m │\n",
      "│  \u001b[1;36m2015\u001b[0m │             \u001b[1;36m14\u001b[0m │      \u001b[1;36m469491\u001b[0m │\n",
      "│  \u001b[1;36m2015\u001b[0m │             \u001b[1;36m31\u001b[0m │       \u001b[1;36m70575\u001b[0m │\n",
      "│  \u001b[1;36m2015\u001b[0m │             \u001b[1;36m71\u001b[0m │      \u001b[1;36m271906\u001b[0m │\n",
      "│  \u001b[1;36m2015\u001b[0m │             \u001b[1;36m21\u001b[0m │      \u001b[1;36m866009\u001b[0m │\n",
      "│     \u001b[2m…\u001b[0m │              \u001b[2m…\u001b[0m │           \u001b[2m…\u001b[0m │\n",
      "└───────┴────────────────┴─────────────┘\n",
      "\n"
     ]
    }
   ],
   "source": [
    "group_by_year_violation_code_2014 = tickets_2014.group_by(['year','Violation Code']).aggregate(tickets_2014.count())\n",
    "group_by_year_violation_code_2015 = tickets_2015.group_by(['year','Violation Code']).aggregate(tickets_2015.count())\n",
    "group_by_year_violation_code_2016 = tickets_2016.group_by(['year','Violation Code']).aggregate(tickets_2016.count())\n",
    "print(group_by_year_violation_code_2014)\n",
    "print(group_by_year_violation_code_2015)\n",
    "print(group_by_year_violation_code_2016)"
   ]
  },
  {
   "cell_type": "code",
   "execution_count": 19,
   "id": "5d9d9281-fa18-4166-be52-5e1e1794eea9",
   "metadata": {},
   "outputs": [
    {
     "data": {
      "text/html": [
       "<pre style=\"white-space:pre;overflow-x:auto;line-height:normal;font-family:Menlo,'DejaVu Sans Mono',consolas,'Courier New',monospace\"></pre>\n"
      ],
      "text/plain": []
     },
     "metadata": {},
     "output_type": "display_data"
    },
    {
     "name": "stdout",
     "output_type": "stream",
     "text": [
      "┏━━━━━━━━━━━━━━━━━━━┳━━━━━━━━━━━━━┓\n",
      "┃\u001b[1m \u001b[0m\u001b[1mVehicle Body Type\u001b[0m\u001b[1m \u001b[0m┃\u001b[1m \u001b[0m\u001b[1mCountStar()\u001b[0m\u001b[1m \u001b[0m┃\n",
      "┡━━━━━━━━━━━━━━━━━━━╇━━━━━━━━━━━━━┩\n",
      "│ \u001b[2mstring\u001b[0m            │ \u001b[2mint64\u001b[0m       │\n",
      "├───────────────────┼─────────────┤\n",
      "│ \u001b[32mSDN              \u001b[0m │      \u001b[1;36m441801\u001b[0m │\n",
      "│ \u001b[32mSUBN             \u001b[0m │     \u001b[1;36m2797693\u001b[0m │\n",
      "│ \u001b[32mVAN              \u001b[0m │     \u001b[1;36m1384393\u001b[0m │\n",
      "│ \u001b[32mP-U              \u001b[0m │       \u001b[1;36m24036\u001b[0m │\n",
      "│ \u001b[32mDELV             \u001b[0m │      \u001b[1;36m730526\u001b[0m │\n",
      "│ \u001b[2mNULL\u001b[0m              │      \u001b[1;36m110868\u001b[0m │\n",
      "│ \u001b[32mTRLR             \u001b[0m │       \u001b[1;36m55643\u001b[0m │\n",
      "│ \u001b[32mTWOD             \u001b[0m │        \u001b[1;36m1157\u001b[0m │\n",
      "│ \u001b[32mWORK             \u001b[0m │          \u001b[1;36m48\u001b[0m │\n",
      "│ \u001b[32mUTIL             \u001b[0m │       \u001b[1;36m78454\u001b[0m │\n",
      "│ \u001b[2m…\u001b[0m                 │           \u001b[2m…\u001b[0m │\n",
      "└───────────────────┴─────────────┘\n",
      "\n"
     ]
    },
    {
     "data": {
      "text/html": [
       "<pre style=\"white-space:pre;overflow-x:auto;line-height:normal;font-family:Menlo,'DejaVu Sans Mono',consolas,'Courier New',monospace\"></pre>\n"
      ],
      "text/plain": []
     },
     "metadata": {},
     "output_type": "display_data"
    },
    {
     "name": "stdout",
     "output_type": "stream",
     "text": [
      "┏━━━━━━━━━━━━━━━━━━━┳━━━━━━━━━━━━━┓\n",
      "┃\u001b[1m \u001b[0m\u001b[1mVehicle Body Type\u001b[0m\u001b[1m \u001b[0m┃\u001b[1m \u001b[0m\u001b[1mCountStar()\u001b[0m\u001b[1m \u001b[0m┃\n",
      "┡━━━━━━━━━━━━━━━━━━━╇━━━━━━━━━━━━━┩\n",
      "│ \u001b[2mstring\u001b[0m            │ \u001b[2mint64\u001b[0m       │\n",
      "├───────────────────┼─────────────┤\n",
      "│ \u001b[32m2DSD             \u001b[0m │      \u001b[1;36m319046\u001b[0m │\n",
      "│ \u001b[32mSUBN             \u001b[0m │     \u001b[1;36m3729346\u001b[0m │\n",
      "│ \u001b[32mVAN              \u001b[0m │     \u001b[1;36m1709091\u001b[0m │\n",
      "│ \u001b[32m4DSD             \u001b[0m │     \u001b[1;36m3340014\u001b[0m │\n",
      "│ \u001b[32mDELV             \u001b[0m │      \u001b[1;36m892781\u001b[0m │\n",
      "│ \u001b[32mSDN              \u001b[0m │      \u001b[1;36m524596\u001b[0m │\n",
      "│ \u001b[32mPICK             \u001b[0m │      \u001b[1;36m297562\u001b[0m │\n",
      "│ \u001b[32mT/CR             \u001b[0m │       \u001b[1;36m14581\u001b[0m │\n",
      "│ \u001b[32mREFG             \u001b[0m │       \u001b[1;36m89643\u001b[0m │\n",
      "│ \u001b[32mTK               \u001b[0m │       \u001b[1;36m31199\u001b[0m │\n",
      "│ \u001b[2m…\u001b[0m                 │           \u001b[2m…\u001b[0m │\n",
      "└───────────────────┴─────────────┘\n",
      "\n"
     ]
    },
    {
     "data": {
      "text/html": [
       "<pre style=\"white-space:pre;overflow-x:auto;line-height:normal;font-family:Menlo,'DejaVu Sans Mono',consolas,'Courier New',monospace\"></pre>\n"
      ],
      "text/plain": []
     },
     "metadata": {},
     "output_type": "display_data"
    },
    {
     "name": "stdout",
     "output_type": "stream",
     "text": [
      "┏━━━━━━━━━━━━━━━━━━━┳━━━━━━━━━━━━━┓\n",
      "┃\u001b[1m \u001b[0m\u001b[1mVehicle Body Type\u001b[0m\u001b[1m \u001b[0m┃\u001b[1m \u001b[0m\u001b[1mCountStar()\u001b[0m\u001b[1m \u001b[0m┃\n",
      "┡━━━━━━━━━━━━━━━━━━━╇━━━━━━━━━━━━━┩\n",
      "│ \u001b[2mstring\u001b[0m            │ \u001b[2mint64\u001b[0m       │\n",
      "├───────────────────┼─────────────┤\n",
      "│ \u001b[32mSDN              \u001b[0m │      \u001b[1;36m424043\u001b[0m │\n",
      "│ \u001b[32mSUBN             \u001b[0m │     \u001b[1;36m3466037\u001b[0m │\n",
      "│ \u001b[32mP-U              \u001b[0m │       \u001b[1;36m23649\u001b[0m │\n",
      "│ \u001b[32mTWOD             \u001b[0m │         \u001b[1;36m827\u001b[0m │\n",
      "│ \u001b[32mDELV             \u001b[0m │      \u001b[1;36m755282\u001b[0m │\n",
      "│ \u001b[32mVAN              \u001b[0m │     \u001b[1;36m1518303\u001b[0m │\n",
      "│ \u001b[32mFOUR             \u001b[0m │        \u001b[1;36m3814\u001b[0m │\n",
      "│ \u001b[2mNULL\u001b[0m              │       \u001b[1;36m39271\u001b[0m │\n",
      "│ \u001b[32mTRLR             \u001b[0m │       \u001b[1;36m33008\u001b[0m │\n",
      "│ \u001b[32mTAXI             \u001b[0m │       \u001b[1;36m63613\u001b[0m │\n",
      "│ \u001b[2m…\u001b[0m                 │           \u001b[2m…\u001b[0m │\n",
      "└───────────────────┴─────────────┘\n",
      "\n"
     ]
    }
   ],
   "source": [
    "group_by_vehicle_body_type_2014 = tickets_2014.group_by('Vehicle Body Type').aggregate(tickets_2014.count())\n",
    "group_by_vehicle_body_type_2015 = tickets_2015.group_by('Vehicle Body Type').aggregate(tickets_2015.count())\n",
    "group_by_vehicle_body_type_2016 = tickets_2016.group_by('Vehicle Body Type').aggregate(tickets_2016.count())\n",
    "print(group_by_vehicle_body_type_2014)\n",
    "print(group_by_vehicle_body_type_2015)\n",
    "print(group_by_vehicle_body_type_2016)"
   ]
  },
  {
   "cell_type": "code",
   "execution_count": 20,
   "id": "a8a2bd5c-53e6-4299-aa30-8388aef6bf4d",
   "metadata": {},
   "outputs": [
    {
     "data": {
      "text/html": [
       "<pre style=\"white-space:pre;overflow-x:auto;line-height:normal;font-family:Menlo,'DejaVu Sans Mono',consolas,'Courier New',monospace\"></pre>\n"
      ],
      "text/plain": []
     },
     "metadata": {},
     "output_type": "display_data"
    },
    {
     "name": "stdout",
     "output_type": "stream",
     "text": [
      "┏━━━━━━━┳━━━━━━━━━━━━━━━━━━━┳━━━━━━━━━━━━━┓\n",
      "┃\u001b[1m \u001b[0m\u001b[1myear\u001b[0m\u001b[1m \u001b[0m\u001b[1m \u001b[0m┃\u001b[1m \u001b[0m\u001b[1mVehicle Body Type\u001b[0m\u001b[1m \u001b[0m┃\u001b[1m \u001b[0m\u001b[1mCountStar()\u001b[0m\u001b[1m \u001b[0m┃\n",
      "┡━━━━━━━╇━━━━━━━━━━━━━━━━━━━╇━━━━━━━━━━━━━┩\n",
      "│ \u001b[2mint32\u001b[0m │ \u001b[2mstring\u001b[0m            │ \u001b[2mint64\u001b[0m       │\n",
      "├───────┼───────────────────┼─────────────┤\n",
      "│  \u001b[1;36m2013\u001b[0m │ \u001b[32mVAN              \u001b[0m │      \u001b[1;36m639710\u001b[0m │\n",
      "│  \u001b[1;36m2013\u001b[0m │ \u001b[32mSUBN             \u001b[0m │     \u001b[1;36m1337137\u001b[0m │\n",
      "│  \u001b[1;36m2013\u001b[0m │ \u001b[32mPICK             \u001b[0m │      \u001b[1;36m105797\u001b[0m │\n",
      "│  \u001b[1;36m2013\u001b[0m │ \u001b[32m4DSD             \u001b[0m │     \u001b[1;36m1212518\u001b[0m │\n",
      "│  \u001b[1;36m2013\u001b[0m │ \u001b[32mDELV             \u001b[0m │      \u001b[1;36m337916\u001b[0m │\n",
      "│  \u001b[1;36m2013\u001b[0m │ \u001b[32m2DSD             \u001b[0m │      \u001b[1;36m125306\u001b[0m │\n",
      "│  \u001b[1;36m2013\u001b[0m │ \u001b[32mMCY              \u001b[0m │       \u001b[1;36m16442\u001b[0m │\n",
      "│  \u001b[1;36m2013\u001b[0m │ \u001b[32mTAXI             \u001b[0m │       \u001b[1;36m25496\u001b[0m │\n",
      "│  \u001b[1;36m2013\u001b[0m │ \u001b[32mREFG             \u001b[0m │       \u001b[1;36m29118\u001b[0m │\n",
      "│  \u001b[1;36m2013\u001b[0m │ \u001b[32mDUMP             \u001b[0m │        \u001b[1;36m4846\u001b[0m │\n",
      "│     \u001b[2m…\u001b[0m │ \u001b[2m…\u001b[0m                 │           \u001b[2m…\u001b[0m │\n",
      "└───────┴───────────────────┴─────────────┘\n",
      "\n"
     ]
    },
    {
     "data": {
      "text/html": [
       "<pre style=\"white-space:pre;overflow-x:auto;line-height:normal;font-family:Menlo,'DejaVu Sans Mono',consolas,'Courier New',monospace\"></pre>\n"
      ],
      "text/plain": []
     },
     "metadata": {},
     "output_type": "display_data"
    },
    {
     "name": "stdout",
     "output_type": "stream",
     "text": [
      "┏━━━━━━━┳━━━━━━━━━━━━━━━━━━━┳━━━━━━━━━━━━━┓\n",
      "┃\u001b[1m \u001b[0m\u001b[1myear\u001b[0m\u001b[1m \u001b[0m\u001b[1m \u001b[0m┃\u001b[1m \u001b[0m\u001b[1mVehicle Body Type\u001b[0m\u001b[1m \u001b[0m┃\u001b[1m \u001b[0m\u001b[1mCountStar()\u001b[0m\u001b[1m \u001b[0m┃\n",
      "┡━━━━━━━╇━━━━━━━━━━━━━━━━━━━╇━━━━━━━━━━━━━┩\n",
      "│ \u001b[2mint32\u001b[0m │ \u001b[2mstring\u001b[0m            │ \u001b[2mint64\u001b[0m       │\n",
      "├───────┼───────────────────┼─────────────┤\n",
      "│  \u001b[1;36m2014\u001b[0m │ \u001b[32mSUBN             \u001b[0m │     \u001b[1;36m1813551\u001b[0m │\n",
      "│  \u001b[1;36m2015\u001b[0m │ \u001b[32mVAN              \u001b[0m │      \u001b[1;36m879764\u001b[0m │\n",
      "│  \u001b[1;36m2015\u001b[0m │ \u001b[32m4DSD             \u001b[0m │     \u001b[1;36m1694252\u001b[0m │\n",
      "│  \u001b[1;36m2014\u001b[0m │ \u001b[32m4DSD             \u001b[0m │     \u001b[1;36m1645761\u001b[0m │\n",
      "│  \u001b[1;36m2014\u001b[0m │ \u001b[32mVAN              \u001b[0m │      \u001b[1;36m829117\u001b[0m │\n",
      "│  \u001b[1;36m2015\u001b[0m │ \u001b[32mSUBN             \u001b[0m │     \u001b[1;36m1915458\u001b[0m │\n",
      "│  \u001b[1;36m2014\u001b[0m │ \u001b[32mDELV             \u001b[0m │      \u001b[1;36m431316\u001b[0m │\n",
      "│  \u001b[1;36m2014\u001b[0m │ \u001b[32mTRAC             \u001b[0m │       \u001b[1;36m37181\u001b[0m │\n",
      "│  \u001b[1;36m2015\u001b[0m │ \u001b[32mSDN              \u001b[0m │      \u001b[1;36m237304\u001b[0m │\n",
      "│  \u001b[1;36m2015\u001b[0m │ \u001b[32mPICK             \u001b[0m │      \u001b[1;36m153780\u001b[0m │\n",
      "│     \u001b[2m…\u001b[0m │ \u001b[2m…\u001b[0m                 │           \u001b[2m…\u001b[0m │\n",
      "└───────┴───────────────────┴─────────────┘\n",
      "\n"
     ]
    },
    {
     "data": {
      "text/html": [
       "<pre style=\"white-space:pre;overflow-x:auto;line-height:normal;font-family:Menlo,'DejaVu Sans Mono',consolas,'Courier New',monospace\"></pre>\n"
      ],
      "text/plain": []
     },
     "metadata": {},
     "output_type": "display_data"
    },
    {
     "name": "stdout",
     "output_type": "stream",
     "text": [
      "┏━━━━━━━┳━━━━━━━━━━━━━━━━━━━┳━━━━━━━━━━━━━┓\n",
      "┃\u001b[1m \u001b[0m\u001b[1myear\u001b[0m\u001b[1m \u001b[0m\u001b[1m \u001b[0m┃\u001b[1m \u001b[0m\u001b[1mVehicle Body Type\u001b[0m\u001b[1m \u001b[0m┃\u001b[1m \u001b[0m\u001b[1mCountStar()\u001b[0m\u001b[1m \u001b[0m┃\n",
      "┡━━━━━━━╇━━━━━━━━━━━━━━━━━━━╇━━━━━━━━━━━━━┩\n",
      "│ \u001b[2mint32\u001b[0m │ \u001b[2mstring\u001b[0m            │ \u001b[2mint64\u001b[0m       │\n",
      "├───────┼───────────────────┼─────────────┤\n",
      "│  \u001b[1;36m2015\u001b[0m │ \u001b[32mVAN              \u001b[0m │      \u001b[1;36m795627\u001b[0m │\n",
      "│  \u001b[1;36m2015\u001b[0m │ \u001b[32mSUBN             \u001b[0m │     \u001b[1;36m1868831\u001b[0m │\n",
      "│  \u001b[1;36m2015\u001b[0m │ \u001b[32m4DSD             \u001b[0m │     \u001b[1;36m1638106\u001b[0m │\n",
      "│  \u001b[1;36m2015\u001b[0m │ \u001b[32mDELV             \u001b[0m │      \u001b[1;36m400540\u001b[0m │\n",
      "│  \u001b[1;36m2015\u001b[0m │ \u001b[32mREFG             \u001b[0m │       \u001b[1;36m42264\u001b[0m │\n",
      "│  \u001b[1;36m2015\u001b[0m │ \u001b[32mPICK             \u001b[0m │      \u001b[1;36m141013\u001b[0m │\n",
      "│  \u001b[1;36m2015\u001b[0m │ \u001b[32mUTIL             \u001b[0m │       \u001b[1;36m39663\u001b[0m │\n",
      "│  \u001b[1;36m2015\u001b[0m │ \u001b[32mTRAC             \u001b[0m │       \u001b[1;36m38846\u001b[0m │\n",
      "│  \u001b[1;36m2015\u001b[0m │ \u001b[32mBUS              \u001b[0m │       \u001b[1;36m26014\u001b[0m │\n",
      "│  \u001b[1;36m2015\u001b[0m │ \u001b[32mBS               \u001b[0m │        \u001b[1;36m1644\u001b[0m │\n",
      "│     \u001b[2m…\u001b[0m │ \u001b[2m…\u001b[0m                 │           \u001b[2m…\u001b[0m │\n",
      "└───────┴───────────────────┴─────────────┘\n",
      "\n"
     ]
    }
   ],
   "source": [
    "group_by_year_vehicle_body_type_2014 = tickets_2014.group_by(['year', 'Vehicle Body Type']).aggregate(tickets_2014.count())\n",
    "group_by_year_vehicle_body_type_2015 = tickets_2015.group_by(['year', 'Vehicle Body Type']).aggregate(tickets_2015.count())\n",
    "group_by_year_vehicle_body_type_2016 = tickets_2016.group_by(['year', 'Vehicle Body Type']).aggregate(tickets_2016.count())\n",
    "print(group_by_year_vehicle_body_type_2014)\n",
    "print(group_by_year_vehicle_body_type_2015)\n",
    "print(group_by_year_vehicle_body_type_2016)"
   ]
  },
  {
   "cell_type": "code",
   "execution_count": 21,
   "id": "6b620e85-af89-430e-ab07-7f909f0cd547",
   "metadata": {},
   "outputs": [
    {
     "data": {
      "text/html": [
       "<pre style=\"white-space:pre;overflow-x:auto;line-height:normal;font-family:Menlo,'DejaVu Sans Mono',consolas,'Courier New',monospace\"></pre>\n"
      ],
      "text/plain": []
     },
     "metadata": {},
     "output_type": "display_data"
    },
    {
     "name": "stdout",
     "output_type": "stream",
     "text": [
      "┏━━━━━━━━━━━━━━━━━━┳━━━━━━━━━━━━━┓\n",
      "┃\u001b[1m \u001b[0m\u001b[1mViolation County\u001b[0m\u001b[1m \u001b[0m┃\u001b[1m \u001b[0m\u001b[1mCountStar()\u001b[0m\u001b[1m \u001b[0m┃\n",
      "┡━━━━━━━━━━━━━━━━━━╇━━━━━━━━━━━━━┩\n",
      "│ \u001b[2mstring\u001b[0m           │ \u001b[2mint64\u001b[0m       │\n",
      "├──────────────────┼─────────────┤\n",
      "│ \u001b[32mQ               \u001b[0m │     \u001b[1;36m1825974\u001b[0m │\n",
      "│ \u001b[2mNULL\u001b[0m             │      \u001b[1;36m705205\u001b[0m │\n",
      "│ \u001b[32mNY              \u001b[0m │     \u001b[1;36m3547196\u001b[0m │\n",
      "│ \u001b[32mBX              \u001b[0m │      \u001b[1;36m943549\u001b[0m │\n",
      "│ \u001b[32mK               \u001b[0m │     \u001b[1;36m1979048\u001b[0m │\n",
      "│ \u001b[32mR               \u001b[0m │       \u001b[1;36m99290\u001b[0m │\n",
      "│ \u001b[32mKINGS           \u001b[0m │           \u001b[1;36m1\u001b[0m │\n",
      "│ \u001b[32mNYC             \u001b[0m │           \u001b[1;36m2\u001b[0m │\n",
      "│ \u001b[32m103             \u001b[0m │           \u001b[1;36m1\u001b[0m │\n",
      "│ \u001b[32mQUEEN           \u001b[0m │           \u001b[1;36m3\u001b[0m │\n",
      "│ \u001b[2m…\u001b[0m                │           \u001b[2m…\u001b[0m │\n",
      "└──────────────────┴─────────────┘\n",
      "\n"
     ]
    },
    {
     "data": {
      "text/html": [
       "<pre style=\"white-space:pre;overflow-x:auto;line-height:normal;font-family:Menlo,'DejaVu Sans Mono',consolas,'Courier New',monospace\"></pre>\n"
      ],
      "text/plain": []
     },
     "metadata": {},
     "output_type": "display_data"
    },
    {
     "name": "stdout",
     "output_type": "stream",
     "text": [
      "┏━━━━━━━━━━━━━━━━━━┳━━━━━━━━━━━━━┓\n",
      "┃\u001b[1m \u001b[0m\u001b[1mViolation County\u001b[0m\u001b[1m \u001b[0m┃\u001b[1m \u001b[0m\u001b[1mCountStar()\u001b[0m\u001b[1m \u001b[0m┃\n",
      "┡━━━━━━━━━━━━━━━━━━╇━━━━━━━━━━━━━┩\n",
      "│ \u001b[2mstring\u001b[0m           │ \u001b[2mint64\u001b[0m       │\n",
      "├──────────────────┼─────────────┤\n",
      "│ \u001b[32mR               \u001b[0m │      \u001b[1;36m114317\u001b[0m │\n",
      "│ \u001b[32mK               \u001b[0m │     \u001b[1;36m2395622\u001b[0m │\n",
      "│ \u001b[32mNY              \u001b[0m │     \u001b[1;36m4110588\u001b[0m │\n",
      "│ \u001b[32mBX              \u001b[0m │     \u001b[1;36m1183682\u001b[0m │\n",
      "│ \u001b[32mQ               \u001b[0m │     \u001b[1;36m2165265\u001b[0m │\n",
      "│ \u001b[2mNULL\u001b[0m             │     \u001b[1;36m1839734\u001b[0m │\n",
      "│ \u001b[32mKINGS           \u001b[0m │          \u001b[1;36m10\u001b[0m │\n",
      "│ \u001b[32mQUEEN           \u001b[0m │           \u001b[1;36m3\u001b[0m │\n",
      "│ \u001b[32mNEW Y           \u001b[0m │           \u001b[1;36m2\u001b[0m │\n",
      "│ \u001b[32mNEWY            \u001b[0m │           \u001b[1;36m2\u001b[0m │\n",
      "│ \u001b[2m…\u001b[0m                │           \u001b[2m…\u001b[0m │\n",
      "└──────────────────┴─────────────┘\n",
      "\n"
     ]
    },
    {
     "data": {
      "text/html": [
       "<pre style=\"white-space:pre;overflow-x:auto;line-height:normal;font-family:Menlo,'DejaVu Sans Mono',consolas,'Courier New',monospace\"></pre>\n"
      ],
      "text/plain": []
     },
     "metadata": {},
     "output_type": "display_data"
    },
    {
     "name": "stdout",
     "output_type": "stream",
     "text": [
      "┏━━━━━━━━━━━━━━━━━━┳━━━━━━━━━━━━━┓\n",
      "┃\u001b[1m \u001b[0m\u001b[1mViolation County\u001b[0m\u001b[1m \u001b[0m┃\u001b[1m \u001b[0m\u001b[1mCountStar()\u001b[0m\u001b[1m \u001b[0m┃\n",
      "┡━━━━━━━━━━━━━━━━━━╇━━━━━━━━━━━━━┩\n",
      "│ \u001b[2mstring\u001b[0m           │ \u001b[2mint64\u001b[0m       │\n",
      "├──────────────────┼─────────────┤\n",
      "│ \u001b[2mNULL\u001b[0m             │     \u001b[1;36m1715038\u001b[0m │\n",
      "│ \u001b[32mBX              \u001b[0m │     \u001b[1;36m1080118\u001b[0m │\n",
      "│ \u001b[32mNY              \u001b[0m │     \u001b[1;36m3539259\u001b[0m │\n",
      "│ \u001b[32mQ               \u001b[0m │     \u001b[1;36m1836567\u001b[0m │\n",
      "│ \u001b[32mK               \u001b[0m │     \u001b[1;36m2198318\u001b[0m │\n",
      "│ \u001b[32mR               \u001b[0m │       \u001b[1;36m93811\u001b[0m │\n",
      "│ \u001b[32mQNS             \u001b[0m │           \u001b[1;36m4\u001b[0m │\n",
      "│ \u001b[32mQUEEN           \u001b[0m │           \u001b[1;36m3\u001b[0m │\n",
      "│ \u001b[32mBRONX           \u001b[0m │           \u001b[1;36m1\u001b[0m │\n",
      "│ \u001b[32mKINGS           \u001b[0m │           \u001b[1;36m8\u001b[0m │\n",
      "│ \u001b[2m…\u001b[0m                │           \u001b[2m…\u001b[0m │\n",
      "└──────────────────┴─────────────┘\n",
      "\n"
     ]
    }
   ],
   "source": [
    "group_by_violation_county_2014 = tickets_2014.group_by('Violation County').aggregate(tickets_2014.count())\n",
    "group_by_violation_county_2015 = tickets_2015.group_by('Violation County').aggregate(tickets_2015.count())\n",
    "group_by_violation_county_2016 = tickets_2016.group_by('Violation County').aggregate(tickets_2016.count())\n",
    "print(group_by_violation_county_2014)\n",
    "print(group_by_violation_county_2015)\n",
    "print(group_by_violation_county_2016)"
   ]
  },
  {
   "cell_type": "code",
   "execution_count": 22,
   "id": "b3b6853b-546f-4022-827c-be7a9c23c955",
   "metadata": {},
   "outputs": [
    {
     "data": {
      "text/html": [
       "<pre style=\"white-space:pre;overflow-x:auto;line-height:normal;font-family:Menlo,'DejaVu Sans Mono',consolas,'Courier New',monospace\"></pre>\n"
      ],
      "text/plain": []
     },
     "metadata": {},
     "output_type": "display_data"
    },
    {
     "name": "stdout",
     "output_type": "stream",
     "text": [
      "┏━━━━━━━┳━━━━━━━━━━━━━━━━━━┳━━━━━━━━━━━━━┓\n",
      "┃\u001b[1m \u001b[0m\u001b[1myear\u001b[0m\u001b[1m \u001b[0m\u001b[1m \u001b[0m┃\u001b[1m \u001b[0m\u001b[1mViolation County\u001b[0m\u001b[1m \u001b[0m┃\u001b[1m \u001b[0m\u001b[1mCountStar()\u001b[0m\u001b[1m \u001b[0m┃\n",
      "┡━━━━━━━╇━━━━━━━━━━━━━━━━━━╇━━━━━━━━━━━━━┩\n",
      "│ \u001b[2mint32\u001b[0m │ \u001b[2mstring\u001b[0m           │ \u001b[2mint64\u001b[0m       │\n",
      "├───────┼──────────────────┼─────────────┤\n",
      "│  \u001b[1;36m2013\u001b[0m │ \u001b[32mQ               \u001b[0m │      \u001b[1;36m870388\u001b[0m │\n",
      "│  \u001b[1;36m2012\u001b[0m │ \u001b[32mQ               \u001b[0m │         \u001b[1;36m111\u001b[0m │\n",
      "│  \u001b[1;36m2013\u001b[0m │ \u001b[2mNULL\u001b[0m             │      \u001b[1;36m373369\u001b[0m │\n",
      "│  \u001b[1;36m2013\u001b[0m │ \u001b[32mNY              \u001b[0m │     \u001b[1;36m1697924\u001b[0m │\n",
      "│  \u001b[1;36m2018\u001b[0m │ \u001b[32mQ               \u001b[0m │          \u001b[1;36m20\u001b[0m │\n",
      "│  \u001b[1;36m2013\u001b[0m │ \u001b[32mBX              \u001b[0m │      \u001b[1;36m437995\u001b[0m │\n",
      "│  \u001b[1;36m2013\u001b[0m │ \u001b[32mK               \u001b[0m │      \u001b[1;36m960043\u001b[0m │\n",
      "│  \u001b[1;36m2014\u001b[0m │ \u001b[32mNY              \u001b[0m │     \u001b[1;36m1847829\u001b[0m │\n",
      "│  \u001b[1;36m2012\u001b[0m │ \u001b[2mNULL\u001b[0m             │          \u001b[1;36m38\u001b[0m │\n",
      "│  \u001b[1;36m2014\u001b[0m │ \u001b[32mK               \u001b[0m │     \u001b[1;36m1017662\u001b[0m │\n",
      "│     \u001b[2m…\u001b[0m │ \u001b[2m…\u001b[0m                │           \u001b[2m…\u001b[0m │\n",
      "└───────┴──────────────────┴─────────────┘\n",
      "\n"
     ]
    },
    {
     "data": {
      "text/html": [
       "<pre style=\"white-space:pre;overflow-x:auto;line-height:normal;font-family:Menlo,'DejaVu Sans Mono',consolas,'Courier New',monospace\"></pre>\n"
      ],
      "text/plain": []
     },
     "metadata": {},
     "output_type": "display_data"
    },
    {
     "name": "stdout",
     "output_type": "stream",
     "text": [
      "┏━━━━━━━┳━━━━━━━━━━━━━━━━━━┳━━━━━━━━━━━━━┓\n",
      "┃\u001b[1m \u001b[0m\u001b[1myear\u001b[0m\u001b[1m \u001b[0m\u001b[1m \u001b[0m┃\u001b[1m \u001b[0m\u001b[1mViolation County\u001b[0m\u001b[1m \u001b[0m┃\u001b[1m \u001b[0m\u001b[1mCountStar()\u001b[0m\u001b[1m \u001b[0m┃\n",
      "┡━━━━━━━╇━━━━━━━━━━━━━━━━━━╇━━━━━━━━━━━━━┩\n",
      "│ \u001b[2mint32\u001b[0m │ \u001b[2mstring\u001b[0m           │ \u001b[2mint64\u001b[0m       │\n",
      "├───────┼──────────────────┼─────────────┤\n",
      "│  \u001b[1;36m2014\u001b[0m │ \u001b[32mNY              \u001b[0m │     \u001b[1;36m1975192\u001b[0m │\n",
      "│  \u001b[1;36m2015\u001b[0m │ \u001b[32mNY              \u001b[0m │     \u001b[1;36m2134956\u001b[0m │\n",
      "│  \u001b[1;36m2014\u001b[0m │ \u001b[32mK               \u001b[0m │     \u001b[1;36m1158169\u001b[0m │\n",
      "│  \u001b[1;36m2015\u001b[0m │ \u001b[32mQ               \u001b[0m │     \u001b[1;36m1140168\u001b[0m │\n",
      "│  \u001b[1;36m2014\u001b[0m │ \u001b[32mQ               \u001b[0m │     \u001b[1;36m1024853\u001b[0m │\n",
      "│  \u001b[1;36m2014\u001b[0m │ \u001b[32mBX              \u001b[0m │      \u001b[1;36m580035\u001b[0m │\n",
      "│  \u001b[1;36m2015\u001b[0m │ \u001b[32mK               \u001b[0m │     \u001b[1;36m1237094\u001b[0m │\n",
      "│  \u001b[1;36m2014\u001b[0m │ \u001b[32mR               \u001b[0m │       \u001b[1;36m62430\u001b[0m │\n",
      "│  \u001b[1;36m2015\u001b[0m │ \u001b[32mBX              \u001b[0m │      \u001b[1;36m603453\u001b[0m │\n",
      "│  \u001b[1;36m2014\u001b[0m │ \u001b[2mNULL\u001b[0m             │     \u001b[1;36m1020352\u001b[0m │\n",
      "│     \u001b[2m…\u001b[0m │ \u001b[2m…\u001b[0m                │           \u001b[2m…\u001b[0m │\n",
      "└───────┴──────────────────┴─────────────┘\n",
      "\n"
     ]
    },
    {
     "data": {
      "text/html": [
       "<pre style=\"white-space:pre;overflow-x:auto;line-height:normal;font-family:Menlo,'DejaVu Sans Mono',consolas,'Courier New',monospace\"></pre>\n"
      ],
      "text/plain": []
     },
     "metadata": {},
     "output_type": "display_data"
    },
    {
     "name": "stdout",
     "output_type": "stream",
     "text": [
      "┏━━━━━━━┳━━━━━━━━━━━━━━━━━━┳━━━━━━━━━━━━━┓\n",
      "┃\u001b[1m \u001b[0m\u001b[1myear\u001b[0m\u001b[1m \u001b[0m\u001b[1m \u001b[0m┃\u001b[1m \u001b[0m\u001b[1mViolation County\u001b[0m\u001b[1m \u001b[0m┃\u001b[1m \u001b[0m\u001b[1mCountStar()\u001b[0m\u001b[1m \u001b[0m┃\n",
      "┡━━━━━━━╇━━━━━━━━━━━━━━━━━━╇━━━━━━━━━━━━━┩\n",
      "│ \u001b[2mint32\u001b[0m │ \u001b[2mstring\u001b[0m           │ \u001b[2mint64\u001b[0m       │\n",
      "├───────┼──────────────────┼─────────────┤\n",
      "│  \u001b[1;36m2015\u001b[0m │ \u001b[32mNY              \u001b[0m │     \u001b[1;36m1853109\u001b[0m │\n",
      "│  \u001b[1;36m2015\u001b[0m │ \u001b[2mNULL\u001b[0m             │     \u001b[1;36m1061203\u001b[0m │\n",
      "│  \u001b[1;36m2015\u001b[0m │ \u001b[32mK               \u001b[0m │     \u001b[1;36m1190297\u001b[0m │\n",
      "│  \u001b[1;36m2015\u001b[0m │ \u001b[32mQ               \u001b[0m │     \u001b[1;36m1009491\u001b[0m │\n",
      "│  \u001b[1;36m2015\u001b[0m │ \u001b[32mBX              \u001b[0m │      \u001b[1;36m582926\u001b[0m │\n",
      "│  \u001b[1;36m2015\u001b[0m │ \u001b[32mR               \u001b[0m │       \u001b[1;36m53971\u001b[0m │\n",
      "│  \u001b[1;36m2016\u001b[0m │ \u001b[32mK               \u001b[0m │     \u001b[1;36m1006986\u001b[0m │\n",
      "│  \u001b[1;36m2016\u001b[0m │ \u001b[32mQ               \u001b[0m │      \u001b[1;36m826559\u001b[0m │\n",
      "│  \u001b[1;36m2018\u001b[0m │ \u001b[32mBX              \u001b[0m │          \u001b[1;36m74\u001b[0m │\n",
      "│  \u001b[1;36m2016\u001b[0m │ \u001b[32mBX              \u001b[0m │      \u001b[1;36m496694\u001b[0m │\n",
      "│     \u001b[2m…\u001b[0m │ \u001b[2m…\u001b[0m                │           \u001b[2m…\u001b[0m │\n",
      "└───────┴──────────────────┴─────────────┘\n",
      "\n"
     ]
    }
   ],
   "source": [
    "group_by_year_violation_county_2014 = tickets_2014.group_by(['year', 'Violation County']).aggregate(tickets_2014.count())\n",
    "group_by_year_violation_county_2015 = tickets_2015.group_by(['year', 'Violation County']).aggregate(tickets_2015.count())\n",
    "group_by_year_violation_county_2016 = tickets_2016.group_by(['year', 'Violation County']).aggregate(tickets_2016.count())\n",
    "print(group_by_year_violation_county_2014)\n",
    "print(group_by_year_violation_county_2015)\n",
    "print(group_by_year_violation_county_2016)"
   ]
  },
  {
   "cell_type": "code",
   "execution_count": 23,
   "id": "05d09095-3f28-4dbe-8632-35f56abe09af",
   "metadata": {},
   "outputs": [],
   "source": [
    "!rm $dbname*"
   ]
  }
 ],
 "metadata": {
  "kernelspec": {
   "display_name": "Python 3 (ipykernel)",
   "language": "python",
   "name": "python3"
  },
  "language_info": {
   "codemirror_mode": {
    "name": "ipython",
    "version": 3
   },
   "file_extension": ".py",
   "mimetype": "text/x-python",
   "name": "python",
   "nbconvert_exporter": "python",
   "pygments_lexer": "ipython3",
   "version": "3.10.12"
  }
 },
 "nbformat": 4,
 "nbformat_minor": 5
}
